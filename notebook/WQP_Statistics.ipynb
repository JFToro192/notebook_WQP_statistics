{
 "cells": [
  {
   "cell_type": "markdown",
   "metadata": {},
   "source": [
    "# Water Quality Parameters"
   ]
  },
  {
   "cell_type": "markdown",
   "metadata": {},
   "source": [
    "This notebook aims at computing the descriptive statistics for the WQP maps, or any raster, by defining specific features from which these statistics are requested (located within the [in](./in) folder). In addition, the analysis of the WQP maps will consider de extraction of sampling data inside the pixels to review the estimates."
   ]
  },
  {
   "cell_type": "code",
   "execution_count": 1,
   "metadata": {},
   "outputs": [
    {
     "data": {
      "text/html": [
       "<style>\n",
       "/* Config settings*/\n",
       "@import url(https://fonts.googleapis.com/css?family=Open+Sans);\n",
       "body{\n",
       "   font-family: 'Open Sans';\n",
       "}\n",
       "\n",
       "/* Styling the Jupyter Notebook GUI*/\n",
       "#ipython_notebook::before{\n",
       "    content:\"\"\n",
       "   }\n",
       "\n",
       "/* #ipython_notebook img{\n",
       "display:none;\n",
       "} */\n",
       "\n",
       "/*Styling the elements in the Jupyter Notebook*/\n",
       "h1 {\n",
       "    color: white;\n",
       "    border: 1.5px solid rgb(46, 96, 177);\n",
       "    padding: 8px 12px;\n",
       "    background: rgba(37, 107, 182, 0.5);\n",
       "    position: static;\n",
       "}\n",
       "\n",
       "h2 {\n",
       "    color: white;\n",
       "    border: 1.5px solid rgb(46, 170, 177);\n",
       "    padding: 8px 12px;\n",
       "    background: rgba(46, 170, 177, 0.5);\n",
       "    position: static;\n",
       "}\n",
       "\n",
       "h3 {\n",
       "    color: white;\n",
       "    border: 1.5px solid rgb(192, 119, 255);\n",
       "    padding: 8px 12px;\n",
       "    background: rgba(170, 74, 255, 0.5);\n",
       "    position: static;\n",
       "}\n",
       "\n",
       ".note {\n",
       "    background-color: rgba(0, 255, 162, 0.503);\n",
       "}\n",
       "\n",
       ".warning {\n",
       "    background-color: rgba(246, 255, 0, 0.503);\n",
       "}\n",
       "\n",
       ".important {\n",
       "    background-color: rgba(255, 187, 0, 0.503);\n",
       "}\n",
       "\n",
       "\n",
       "</style>"
      ],
      "text/plain": [
       "<IPython.core.display.HTML object>"
      ]
     },
     "execution_count": 1,
     "metadata": {},
     "output_type": "execute_result"
    }
   ],
   "source": [
    "# Styling notebook\n",
    "\n",
    "# System\n",
    "import os\n",
    "import sys\n",
    "\n",
    "# Import scripts libraries for the project\n",
    "sys.path.append('./src/python')\n",
    "\n",
    "# Import the function to update the notebook style\n",
    "from nbConfig import (css_styling)\n",
    "\n",
    "css_styling()"
   ]
  },
  {
   "cell_type": "code",
   "execution_count": 2,
   "metadata": {},
   "outputs": [],
   "source": [
    "# Data\n",
    "import numpy as np\n",
    "import pandas as pd\n",
    "\n",
    "# Spatial Data\n",
    "import geopandas as gpd\n",
    "import rasterio\n",
    "from rasterstats import zonal_stats\n",
    "\n",
    "# Data visualization\n",
    "import matplotlib.pyplot as plt\n",
    "import seaborn as sns\n",
    "from rasterio.plot import show_hist\n",
    "\n",
    "# Import custom libraries\n",
    "import wqpFunctions as wqp"
   ]
  },
  {
   "cell_type": "markdown",
   "metadata": {},
   "source": [
    "Define the working directory for the WQP processing"
   ]
  },
  {
   "cell_type": "code",
   "execution_count": 3,
   "metadata": {},
   "outputs": [],
   "source": [
    "# Current Working Directories\n",
    "cwd = {\n",
    "    'local': '.',\n",
    "    'in': './in/data/S3',\n",
    "    'out': './out/data/S3',\n",
    "    'vector': './vector',\n",
    "}"
   ]
  },
  {
   "cell_type": "markdown",
   "metadata": {},
   "source": [
    "Import the vector files for data extraction of the WQP maps"
   ]
  },
  {
   "cell_type": "code",
   "execution_count": 4,
   "metadata": {},
   "outputs": [],
   "source": [
    "# Layer dataset\n",
    "gdf_lakes = gpd.read_file(os.path.join(cwd['vector'],'simile_laghi','simile_laghi.shp'))\n",
    "# Buoy position in the lake\n",
    "gdf_buoy = gpd.read_file(os.path.join(cwd['vector'],'boa_sample_points','boa_sample_points.shp'))\n",
    "# Random sampling points\n",
    "gdf_sample = gpd.read_file(os.path.join(cwd['vector'],'random_points','random_points.shp'))"
   ]
  },
  {
   "cell_type": "markdown",
   "metadata": {},
   "source": [
    "Review the contents of the folder"
   ]
  },
  {
   "cell_type": "code",
   "execution_count": 6,
   "metadata": {},
   "outputs": [
    {
     "name": "stdout",
     "output_type": "stream",
     "text": [
      "S3A_CHL_IT_20200101T100917_L1.tif\n",
      "S3A_CHL_IT_20200102T094306_L1.tif\n",
      "S3A_CHL_IT_20200103T091655_L1.tif\n",
      "S3A_CHL_IT_20200105T100533_L1.tif\n",
      "S3A_CHL_IT_20200106T093922_L1.tif\n",
      "S3A_CHL_IT_20200107T091311_L1.tif\n",
      "S3A_CHL_IT_20200109T100149_L1.tif\n",
      "S3A_CHL_IT_20200110T093538_L1.tif\n",
      "S3A_CHL_IT_20200111T090927_L1.tif\n",
      "S3A_CHL_IT_20200113T095805_L1.tif\n",
      "S3A_CHL_IT_20200114T093154_L1.tif\n",
      "S3A_CHL_IT_20200115T090543_L1.tif\n",
      "461613.1916635568 , 5086884.173586164  coordinates are out of the image\n",
      "464645.3873948856 , 5071010.463501393  coordinates are out of the image\n",
      "463505.5298660892 , 5083222.8396813115  coordinates are out of the image\n",
      "463041.05383571656 , 5086777.778488278  coordinates are out of the image\n",
      "465008.67724671104 , 5072783.301693505  coordinates are out of the image\n",
      "462690.8041428262 , 5085455.105893146  coordinates are out of the image\n",
      "463347.955892079 , 5085993.053614675  coordinates are out of the image\n",
      "464912.4231471343 , 5083731.017708487  coordinates are out of the image\n",
      "S3A_CHL_IT_20200117T095420_L1.tif\n",
      "S3A_CHL_IT_20200118T092810_L1.tif\n",
      "S3A_CHL_IT_20200120T101647_L1.tif\n",
      "522545.4389634634 , 5088579.414834767  coordinates are out of the image\n",
      "519426.3083421581 , 5093714.428989932  coordinates are out of the image\n",
      "518691.78648127284 , 5093337.3700971  coordinates are out of the image\n",
      "518927.7473373173 , 5097259.822336304  coordinates are out of the image\n",
      "528365.9702094038 , 5110401.096054488  coordinates are out of the image\n",
      "522524.16662077984 , 5089399.888434161  coordinates are out of the image\n",
      "522353.4522775404 , 5103316.676161767  coordinates are out of the image\n",
      "522201.6050817927 , 5104194.411803569  coordinates are out of the image\n",
      "522757.91933001124 , 5109052.031769468  coordinates are out of the image\n",
      "522790.9570712093 , 5089081.474073963  coordinates are out of the image\n",
      "522340.7713768985 , 5086360.045822655  coordinates are out of the image\n",
      "525408.71001185 , 5108049.010374788  coordinates are out of the image\n",
      "526582.4261692303 , 5111133.8537212275  coordinates are out of the image\n",
      "519794.94645305123 , 5096371.021597415  coordinates are out of the image\n",
      "523061.07765239966 , 5100968.379724883  coordinates are out of the image\n",
      "525240.9321257127 , 5083067.067476166  coordinates are out of the image\n",
      "519581.68285099184 , 5095517.31428706  coordinates are out of the image\n",
      "526604.8322746455 , 5081492.108268463  coordinates are out of the image\n",
      "519071.187970563 , 5093676.548925424  coordinates are out of the image\n",
      "521763.46271911135 , 5091200.579132933  coordinates are out of the image\n",
      "522545.17633197637 , 5105668.35779417  coordinates are out of the image\n",
      "528661.9633509673 , 5109843.892529265  coordinates are out of the image\n",
      "526295.1041443612 , 5107422.580761632  coordinates are out of the image\n",
      "522261.5478018347 , 5090652.4939852515  coordinates are out of the image\n",
      "526627.050037884 , 5110642.958463599  coordinates are out of the image\n",
      "520598.9454470767 , 5098134.115401571  coordinates are out of the image\n",
      "517675.36509112234 , 5091299.248683507  coordinates are out of the image\n",
      "521374.9302834949 , 5096848.2904571155  coordinates are out of the image\n",
      "S3A_CHL_IT_20200121T095036_L1.tif\n",
      "S3A_CHL_IT_20200122T092425_L1.tif\n",
      "S3A_CHL_IT_20200125T094652_L1.tif\n",
      "S3A_CHL_IT_20200126T092041_L1.tif\n"
     ]
    }
   ],
   "source": [
    "for root, dirs, files in os.walk(cwd['in']):\n",
    "    for file in files:\n",
    "        if file.endswith('.tif'):\n",
    "            print(file)\n",
    "            f = os.path.join(cwd['in'],file)\n",
    "            \n",
    "            # Read file\n",
    "            src = wqp.wqp(f)\n",
    "            src.readWQP()\n",
    "            \n",
    "            # Export dataset (check no data values)\n",
    "            t = src.image.read(1)\n",
    "            t = np.nan_to_num(t)\n",
    "            t[t<=0] = np.nan\n",
    "            src.writeWQP(cwd['out'],t)\n",
    "            \n",
    "            # Extract information from sampling points\n",
    "            src.extractSamplePoints(gdf_sample)\n",
    "            src.samplePoint.to_csv(os.path.join(cwd['out'],'sample_points',src.name+'.csv'))\n",
    "            \n",
    "            # Compute statistics for the lakes polygons\n",
    "            src.computeStatistics(gdf_lakes, 'Nome',\"count min mean max median std  percentile_25 percentile_50 percentile_75\",0)\n",
    "            \n",
    "            # Format output\n",
    "            df = wqp.wqp.exportWQPFormatEstimates(src)\n",
    "            \n",
    "            # Export the statistics result to a file (append data if existing)\n",
    "            out_file = os.path.join(cwd['out'],'lakesStats.csv')\n",
    "            if os.path.exists(out_file):\n",
    "                df.to_csv(os.path.join(cwd['out'],'lakesStats.csv'),mode='a', header=False)\n",
    "            else:\n",
    "                df.to_csv(os.path.join(cwd['out'],'lakesStats.csv')) "
   ]
  },
  {
   "cell_type": "code",
   "execution_count": 7,
   "metadata": {},
   "outputs": [],
   "source": [
    "#Import the sample dataset\n",
    "src = wqp.wqp('./in\\\\S3A_CHL_IT_20200102T094306_L1.tif')\n",
    "src.readWQP()"
   ]
  },
  {
   "cell_type": "code",
   "execution_count": null,
   "metadata": {},
   "outputs": [],
   "source": []
  }
 ],
 "metadata": {
  "kernelspec": {
   "display_name": "Python 3",
   "language": "python",
   "name": "python3"
  },
  "language_info": {
   "codemirror_mode": {
    "name": "ipython",
    "version": 3
   },
   "file_extension": ".py",
   "mimetype": "text/x-python",
   "name": "python",
   "nbconvert_exporter": "python",
   "pygments_lexer": "ipython3",
   "version": "3.6.12"
  }
 },
 "nbformat": 4,
 "nbformat_minor": 4
}
