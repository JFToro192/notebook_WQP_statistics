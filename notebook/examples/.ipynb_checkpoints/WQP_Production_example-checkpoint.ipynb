{
 "cells": [
  {
   "cell_type": "markdown",
   "metadata": {},
   "source": [
    "# Water Quality Parameters - Production"
   ]
  },
  {
   "cell_type": "code",
   "execution_count": 1,
   "metadata": {},
   "outputs": [
    {
     "data": {
      "text/html": [
       "<style>\n",
       "/* Config settings*/\n",
       "@import url(https://fonts.googleapis.com/css?family=Open+Sans);\n",
       "body{\n",
       "   font-family: 'Open Sans';\n",
       "}\n",
       "\n",
       "/* Styling the Jupyter Notebook GUI*/\n",
       "#ipython_notebook::before{\n",
       "    content:\"\"\n",
       "   }\n",
       "\n",
       "/* #ipython_notebook img{\n",
       "display:none;\n",
       "} */\n",
       "\n",
       "/*Styling the elements in the Jupyter Notebook*/\n",
       "h1 {\n",
       "    color: white;\n",
       "    border: 1.5px solid rgb(46, 96, 177);\n",
       "    padding: 8px 12px;\n",
       "    background: rgba(37, 107, 182, 0.5);\n",
       "    position: static;\n",
       "}\n",
       "\n",
       "h2 {\n",
       "    color: white;\n",
       "    border: 1.5px solid rgb(46, 170, 177);\n",
       "    padding: 8px 12px;\n",
       "    background: rgba(46, 170, 177, 0.5);\n",
       "    position: static;\n",
       "}\n",
       "\n",
       "h3 {\n",
       "    color: white;\n",
       "    border: 1.5px solid rgb(192, 119, 255);\n",
       "    padding: 8px 12px;\n",
       "    background: rgba(170, 74, 255, 0.5);\n",
       "    position: static;\n",
       "}\n",
       "\n",
       ".note {\n",
       "    background-color: rgba(0, 255, 162, 0.503);\n",
       "}\n",
       "\n",
       ".warning {\n",
       "    background-color: rgba(246, 255, 0, 0.503);\n",
       "}\n",
       "\n",
       ".important {\n",
       "    background-color: rgba(255, 187, 0, 0.503);\n",
       "}\n",
       "\n",
       "\n",
       "</style>"
      ],
      "text/plain": [
       "<IPython.core.display.HTML object>"
      ]
     },
     "execution_count": 1,
     "metadata": {},
     "output_type": "execute_result"
    }
   ],
   "source": [
    "# Styling notebook\n",
    "\n",
    "# System\n",
    "import os\n",
    "import sys\n",
    "\n",
    "# Import scripts libraries for the project\n",
    "sys.path.append('./src/python')\n",
    "\n",
    "# Import the function to update the notebook style\n",
    "from nbConfig import (css_styling)\n",
    "\n",
    "css_styling()"
   ]
  },
  {
   "cell_type": "markdown",
   "metadata": {},
   "source": [
    "## 0. Import WQP maps production library"
   ]
  },
  {
   "cell_type": "code",
   "execution_count": 2,
   "metadata": {},
   "outputs": [],
   "source": [
    "import pandas as pd"
   ]
  },
  {
   "cell_type": "markdown",
   "metadata": {},
   "source": [
    "It is necessary to import both parameters and functions file for making use of the snappy python API for the processing of the data for the WQP maps"
   ]
  },
  {
   "cell_type": "code",
   "execution_count": 3,
   "metadata": {},
   "outputs": [],
   "source": [
    "import wqpSNAPparams as wqpParams\n",
    "import wqpSNAPFunctions as wqpSNAP"
   ]
  },
  {
   "cell_type": "markdown",
   "metadata": {},
   "source": [
    "Import the wqp parameters for the map production"
   ]
  },
  {
   "cell_type": "code",
   "execution_count": 4,
   "metadata": {},
   "outputs": [],
   "source": [
    "cwd_path = wqpSNAP.inputParameters('./in/data/satellite_imagery/S3','./in/data/wqp/S3')"
   ]
  },
  {
   "cell_type": "code",
   "execution_count": 5,
   "metadata": {},
   "outputs": [],
   "source": [
    "#Read the mean temperature file\n",
    "df_t = pd.read_csv(os.path.join(cwd_path['in_parameters'],'mean_temp.txt'),sep=\",\")\n",
    "df_t_keys = list(df_t.keys())"
   ]
  },
  {
   "cell_type": "code",
   "execution_count": 6,
   "metadata": {
    "scrolled": true
   },
   "outputs": [
    {
     "data": {
      "text/html": [
       "<div>\n",
       "<style scoped>\n",
       "    .dataframe tbody tr th:only-of-type {\n",
       "        vertical-align: middle;\n",
       "    }\n",
       "\n",
       "    .dataframe tbody tr th {\n",
       "        vertical-align: top;\n",
       "    }\n",
       "\n",
       "    .dataframe thead th {\n",
       "        text-align: right;\n",
       "    }\n",
       "</style>\n",
       "<table border=\"1\" class=\"dataframe\">\n",
       "  <thead>\n",
       "    <tr style=\"text-align: right;\">\n",
       "      <th></th>\n",
       "      <th>Id Sensore</th>\n",
       "      <th>Data-Ora</th>\n",
       "      <th>Medio</th>\n",
       "    </tr>\n",
       "  </thead>\n",
       "  <tbody>\n",
       "    <tr>\n",
       "      <th>0</th>\n",
       "      <td>14606</td>\n",
       "      <td>2020/01/01 00:00</td>\n",
       "      <td>5.8</td>\n",
       "    </tr>\n",
       "    <tr>\n",
       "      <th>1</th>\n",
       "      <td>14606</td>\n",
       "      <td>2020/01/01 00:10</td>\n",
       "      <td>6.0</td>\n",
       "    </tr>\n",
       "    <tr>\n",
       "      <th>2</th>\n",
       "      <td>14606</td>\n",
       "      <td>2020/01/01 00:20</td>\n",
       "      <td>5.6</td>\n",
       "    </tr>\n",
       "    <tr>\n",
       "      <th>3</th>\n",
       "      <td>14606</td>\n",
       "      <td>2020/01/01 00:30</td>\n",
       "      <td>5.7</td>\n",
       "    </tr>\n",
       "    <tr>\n",
       "      <th>4</th>\n",
       "      <td>14606</td>\n",
       "      <td>2020/01/01 00:40</td>\n",
       "      <td>5.1</td>\n",
       "    </tr>\n",
       "  </tbody>\n",
       "</table>\n",
       "</div>"
      ],
      "text/plain": [
       "   Id Sensore          Data-Ora   Medio\n",
       "0       14606  2020/01/01 00:00     5.8\n",
       "1       14606  2020/01/01 00:10     6.0\n",
       "2       14606  2020/01/01 00:20     5.6\n",
       "3       14606  2020/01/01 00:30     5.7\n",
       "4       14606  2020/01/01 00:40     5.1"
      ]
     },
     "execution_count": 6,
     "metadata": {},
     "output_type": "execute_result"
    }
   ],
   "source": [
    "df_t.head()"
   ]
  },
  {
   "cell_type": "markdown",
   "metadata": {},
   "source": [
    "## 1. Read SNAP product"
   ]
  },
  {
   "cell_type": "code",
   "execution_count": 7,
   "metadata": {},
   "outputs": [],
   "source": [
    "# Temptative bounding box for the areea of interest\n",
    "bbox = {\n",
    "    'minLat' : 45.3,\n",
    "    'maxLat' : 46.65,\n",
    "    'minLon' : 7.9,\n",
    "    'maxLon' : 9.95,\n",
    "}"
   ]
  },
  {
   "cell_type": "code",
   "execution_count": 8,
   "metadata": {},
   "outputs": [],
   "source": [
    "path = './in/data/satellite_imagery/S3/S3A_OL_1_EFR____20220201T091325_20220201T091625_20220202T131715_0179_081_264_2160_LN1_O_NT_002.SEN3/xfdumanifest.xml'\n",
    "s3_image = wqpSNAP.snapProduct(path,bbox)"
   ]
  },
  {
   "cell_type": "code",
   "execution_count": 9,
   "metadata": {},
   "outputs": [],
   "source": [
    "s3_image.readSNAPProduct()"
   ]
  },
  {
   "cell_type": "code",
   "execution_count": 10,
   "metadata": {
    "scrolled": false
   },
   "outputs": [
    {
     "data": {
      "text/plain": [
       "{'path': './in/data/satellite_imagery/S3/S3A_OL_1_EFR____20220201T091325_20220201T091625_20220202T131715_0179_081_264_2160_LN1_O_NT_002.SEN3/xfdumanifest.xml',\n",
       " 'name': 'S3A_OL_1_EFR____20220201T091325_20220201T091625_20220202T131715_0179_081_264_2160_LN1_O_NT_002',\n",
       " 'bbox': {'minLat': 45.3, 'maxLat': 46.65, 'minLon': 7.9, 'maxLon': 9.95},\n",
       " 'product': org.esa.snap.core.datamodel.Product(objectRef=0x000001FAF7F621D0),\n",
       " 'bbox_prod': {'minLat': 39.544542357325554,\n",
       "  'maxLat': 52.45314759016037,\n",
       "  'minLon': 6.897687152028084,\n",
       "  'maxLon': 26.900954730808735},\n",
       " 'bbox_trim': {'minLat': 45.3, 'minLon': 7.9, 'maxLat': 46.65, 'maxLon': 9.95}}"
      ]
     },
     "execution_count": 10,
     "metadata": {},
     "output_type": "execute_result"
    }
   ],
   "source": [
    "s3_image.__dict__"
   ]
  },
  {
   "cell_type": "code",
   "execution_count": 11,
   "metadata": {},
   "outputs": [
    {
     "name": "stdout",
     "output_type": "stream",
     "text": [
      "S3A_OL_1_EFR____20220201T091325_20220201T091625_20220202T131715_0179_081_264_2160_LN1_O_NT_002.SEN3\n",
      "S3A_OL_1_EFR____20220203T100203_20220203T100503_20220204T151656_0179_081_293_2160_LN1_O_NT_002.SEN3\n"
     ]
    }
   ],
   "source": [
    "for root, dirs, files in os.walk(cwd_path['in']):\n",
    "    for f in files:\n",
    "        if f.endswith('xml'):\n",
    "            print(root.split('\\\\')[-1])"
   ]
  },
  {
   "cell_type": "markdown",
   "metadata": {},
   "source": [
    "Update the parameters for the processing of the WQP maps"
   ]
  },
  {
   "cell_type": "code",
   "execution_count": 12,
   "metadata": {},
   "outputs": [
    {
     "data": {
      "text/plain": [
       "'S3A_OL_1_EFR____20220201T091325_20220201T091625_20220202T131715_0179_081_264_2160_LN1_O_NT_002.SEN3'"
      ]
     },
     "execution_count": 12,
     "metadata": {},
     "output_type": "execute_result"
    }
   ],
   "source": [
    "s3_image.path.split('/')[-2]"
   ]
  },
  {
   "cell_type": "markdown",
   "metadata": {},
   "source": [
    "## 2. Subset SNAP product"
   ]
  },
  {
   "cell_type": "code",
   "execution_count": 13,
   "metadata": {
    "scrolled": true
   },
   "outputs": [],
   "source": [
    "params_subset = s3_image.updateSNAPSubset(wqpParams.params_subset)"
   ]
  },
  {
   "cell_type": "code",
   "execution_count": 14,
   "metadata": {},
   "outputs": [
    {
     "data": {
      "text/plain": [
       "[{'operator': 'Subset'},\n",
       " {'region': '0,0,0,0',\n",
       "  'geoRegion': 'POLYGON((7.9 46.65,7.9 45.3,9.95 45.3,7.9 46.65))',\n",
       "  'subSamplingX': '1',\n",
       "  'subSamplingY': '1',\n",
       "  'fullSwath': 'false',\n",
       "  'copyMetadata': 'true'}]"
      ]
     },
     "execution_count": 14,
     "metadata": {},
     "output_type": "execute_result"
    }
   ],
   "source": [
    "params_subset"
   ]
  },
  {
   "cell_type": "code",
   "execution_count": 15,
   "metadata": {},
   "outputs": [],
   "source": [
    "# Subset the product\n",
    "subset_product = wqpSNAP.executeSNAPFunction(s3_image.product, params_subset)"
   ]
  },
  {
   "cell_type": "markdown",
   "metadata": {},
   "source": [
    "## 3. Reproject SNAP product"
   ]
  },
  {
   "cell_type": "code",
   "execution_count": 16,
   "metadata": {},
   "outputs": [
    {
     "data": {
      "text/plain": [
       "[{'operator': 'Reproject'},\n",
       " {'crs': 'EPSG:32632',\n",
       "  'resampling': 'Nearest',\n",
       "  'pixelSizeX': '300',\n",
       "  'pixelSizeY': '300',\n",
       "  'orthorectify': 'false',\n",
       "  'noDataValue': 'NaN',\n",
       "  'includeTiePointGrids': 'true'}]"
      ]
     },
     "execution_count": 16,
     "metadata": {},
     "output_type": "execute_result"
    }
   ],
   "source": [
    "wqpParams.params_reproject"
   ]
  },
  {
   "cell_type": "code",
   "execution_count": 17,
   "metadata": {},
   "outputs": [],
   "source": [
    "# Reproject product\n",
    "reproject_product = wqpSNAP.executeSNAPFunction(subset_product, wqpParams.params_reproject)"
   ]
  },
  {
   "cell_type": "markdown",
   "metadata": {},
   "source": [
    "## 4. C2RCC SNAP Product"
   ]
  },
  {
   "cell_type": "code",
   "execution_count": 18,
   "metadata": {
    "scrolled": false
   },
   "outputs": [
    {
     "name": "stdout",
     "output_type": "stream",
     "text": [
      "Date: 2022/02/01 09:10 \n",
      "Temperature: 9.9°C\n"
     ]
    }
   ],
   "source": [
    "# Update the C2RCC tempretature parameters\n",
    "params_C2RCC = s3_image.updateSNAPTemperature(df_t, wqpParams.params_C2RCC)"
   ]
  },
  {
   "cell_type": "code",
   "execution_count": 19,
   "metadata": {},
   "outputs": [
    {
     "data": {
      "text/plain": [
       "[{'operator': 'c2rcc.olci'},\n",
       " {'salinity': '0.5',\n",
       "  'temperature': 9.9,\n",
       "  'ozone': '330',\n",
       "  'press': '1000',\n",
       "  'TSMfac': '1.06',\n",
       "  'TSMexp': '0.942',\n",
       "  'CHLexp': '0.65',\n",
       "  'CHLfac': '19.8',\n",
       "  'thresholdRtosaOOS': '0.01',\n",
       "  'thresholdAcReflecOos': '0.15',\n",
       "  'thresholdCloudTDown865': '0.955',\n",
       "  'outputAsRrs': 'true',\n",
       "  'deriveRwFromPathAndTransmittance': 'false',\n",
       "  'useEcmwfAuxData': 'true',\n",
       "  'outputRtoa': 'true',\n",
       "  'outputRtosaGc': 'false',\n",
       "  'outputRtosaGcAann': 'false',\n",
       "  'outputRpath': 'false',\n",
       "  'outputTdown': 'false',\n",
       "  'outputTup': 'false',\n",
       "  'outputAcReflectance': 'true',\n",
       "  'outputRhown': 'true',\n",
       "  'outputOos': 'true',\n",
       "  'outputKd': 'true',\n",
       "  'outputUncertainties': 'true'}]"
      ]
     },
     "execution_count": 19,
     "metadata": {},
     "output_type": "execute_result"
    }
   ],
   "source": [
    "params_C2RCC"
   ]
  },
  {
   "cell_type": "code",
   "execution_count": 20,
   "metadata": {},
   "outputs": [],
   "source": [
    "# C2RCC processor \n",
    "c2rcc_product = wqpSNAP.executeSNAPFunction(reproject_product, params_C2RCC)"
   ]
  },
  {
   "cell_type": "code",
   "execution_count": 21,
   "metadata": {
    "scrolled": true
   },
   "outputs": [
    {
     "name": "stdout",
     "output_type": "stream",
     "text": [
      "['quality_flags', 'rtoa_1', 'rtoa_2', 'rtoa_3', 'rtoa_4', 'rtoa_5', 'rtoa_6', 'rtoa_7', 'rtoa_8', 'rtoa_9', 'rtoa_10', 'rtoa_11', 'rtoa_12', 'rtoa_13', 'rtoa_14', 'rtoa_15', 'rtoa_16', 'rtoa_17', 'rtoa_18', 'rtoa_19', 'rtoa_20', 'rtoa_21', 'rrs_1', 'rrs_2', 'rrs_3', 'rrs_4', 'rrs_5', 'rrs_6', 'rrs_7', 'rrs_8', 'rrs_9', 'rrs_10', 'rrs_11', 'rrs_12', 'rrs_16', 'rrs_17', 'rrs_18', 'rrs_21', 'rhown_1', 'rhown_2', 'rhown_3', 'rhown_4', 'rhown_5', 'rhown_6', 'rhown_7', 'rhown_8', 'rhown_9', 'rhown_10', 'rhown_11', 'rhown_12', 'rhown_16', 'rhown_17', 'rhown_18', 'rhown_21', 'oos_rtosa', 'oos_rrs', 'iop_apig', 'iop_adet', 'iop_agelb', 'iop_bpart', 'iop_bwit', 'iop_adg', 'iop_atot', 'iop_btot', 'kd489', 'kdmin', 'kd_z90max', 'conc_tsm', 'conc_chl', 'unc_apig', 'unc_adet', 'unc_agelb', 'unc_bpart', 'unc_bwit', 'unc_adg', 'unc_atot', 'unc_btot', 'unc_tsm', 'unc_chl', 'unc_kd489', 'unc_kdmin', 'unc_kd_z90max', 'c2rcc_flags']\n"
     ]
    }
   ],
   "source": [
    "print(list(c2rcc_product.getBandNames()))"
   ]
  },
  {
   "cell_type": "markdown",
   "metadata": {},
   "source": [
    "## 5. Import vector layer"
   ]
  },
  {
   "cell_type": "markdown",
   "metadata": {},
   "source": [
    "Import the vector layer to mask the product"
   ]
  },
  {
   "cell_type": "code",
   "execution_count": 22,
   "metadata": {
    "scrolled": true
   },
   "outputs": [],
   "source": [
    "importVector_product = wqpSNAP.executeSNAPFunction(c2rcc_product, wqpParams.params_importVector)"
   ]
  },
  {
   "cell_type": "markdown",
   "metadata": {},
   "source": [
    "Review if the vector layes has been added to the mask groups for the product"
   ]
  },
  {
   "cell_type": "code",
   "execution_count": 23,
   "metadata": {
    "scrolled": true
   },
   "outputs": [
    {
     "name": "stdout",
     "output_type": "stream",
     "text": [
      "['quality_flags_land', 'quality_flags_coastline', 'quality_flags_fresh_inland_water', 'quality_flags_tidal_region', 'quality_flags_bright', 'quality_flags_straylight_risk', 'quality_flags_invalid', 'quality_flags_cosmetic', 'quality_flags_duplicated', 'quality_flags_sun_glint_risk', 'quality_flags_dubious', 'quality_flags_saturated_Oa01', 'quality_flags_saturated_Oa02', 'quality_flags_saturated_Oa03', 'quality_flags_saturated_Oa04', 'quality_flags_saturated_Oa05', 'quality_flags_saturated_Oa06', 'quality_flags_saturated_Oa07', 'quality_flags_saturated_Oa08', 'quality_flags_saturated_Oa09', 'quality_flags_saturated_Oa10', 'quality_flags_saturated_Oa11', 'quality_flags_saturated_Oa12', 'quality_flags_saturated_Oa13', 'quality_flags_saturated_Oa14', 'quality_flags_saturated_Oa15', 'quality_flags_saturated_Oa16', 'quality_flags_saturated_Oa17', 'quality_flags_saturated_Oa18', 'quality_flags_saturated_Oa19', 'quality_flags_saturated_Oa20', 'quality_flags_saturated_Oa21', 'Rtosa_OOS', 'Rtosa_OOR', 'Rhow_OOR', 'Cloud_risk', 'Iop_OOR', 'Apig_at_max', 'Adet_at_max', 'Agelb_at_max', 'Bpart_at_max', 'Bwit_at_max', 'Apig_at_min', 'Adet_at_min', 'Agelb_at_min', 'Bpart_at_min', 'Bwit_at_min', 'Rhow_OOS', 'Kd489_OOR', 'Kdmin_OOR', 'Kd489_at_max', 'Kdmin_at_max', 'Valid_PE', 'simile_laghi']\n"
     ]
    }
   ],
   "source": [
    "mask_group = importVector_product.getMaskGroup()\n",
    "print(list(mask_group.getNodeNames()))"
   ]
  },
  {
   "cell_type": "markdown",
   "metadata": {},
   "source": [
    "## 6. BandMaths SNAP"
   ]
  },
  {
   "cell_type": "markdown",
   "metadata": {},
   "source": [
    "### 6.1. Compute WQP masked layers"
   ]
  },
  {
   "cell_type": "code",
   "execution_count": 24,
   "metadata": {
    "scrolled": true
   },
   "outputs": [
    {
     "data": {
      "text/plain": [
       "[{'operator': 'BandMaths'},\n",
       " {'name': 'wqp',\n",
       "  'description': 'S3 computations',\n",
       "  'targetBands': [{'name': 'chl',\n",
       "    'type': 'float32',\n",
       "    'expression': \"if simile_laghi and not (Cloud_risk or Rtosa_OOS or Rtosa_OOR or Rhow_OOR) then ('conc_chl') else NaN\"},\n",
       "   {'name': 'tsm',\n",
       "    'type': 'float32',\n",
       "    'expression': \"if simile_laghi and not (Cloud_risk or Rtosa_OOS or Rtosa_OOR or Rhow_OOR) then ('conc_tsm') else NaN\"},\n",
       "   {'name': 'chl_no_mask', 'type': 'float32', 'expression': 'conc_chl'},\n",
       "   {'name': 'tsm_no_mask', 'type': 'float32', 'expression': 'conc_tsm'},\n",
       "   {'name': 'chl_cloud_mask',\n",
       "    'type': 'float32',\n",
       "    'expression': \"if not (Cloud_risk) then ('conc_chl') else NaN\"},\n",
       "   {'name': 'tsm_cloud_mask',\n",
       "    'type': 'float32',\n",
       "    'expression': \"if not (Cloud_risk) then ('conc_tsm') else NaN\"},\n",
       "   {'name': 'chl_b15ok',\n",
       "    'type': 'float32',\n",
       "    'expression': \"if simile_laghi and ('rtoa_15'<0.04) and not (Cloud_risk or Rtosa_OOS or Rtosa_OOR or Rhow_OOR) then ('conc_chl') else NaN\"},\n",
       "   {'name': 'tsm_b15ok',\n",
       "    'type': 'float32',\n",
       "    'expression': \"if simile_laghi and ('rtoa_15'<0.04) and not (Cloud_risk or Rtosa_OOS or Rtosa_OOR or Rhow_OOR) then ('conc_tsm') else NaN\"},\n",
       "   {'name': 'rtoa_15', 'type': 'float32', 'expression': 'rtoa_15'},\n",
       "   {'name': 'chl_threshold_lower',\n",
       "    'type': 'float32',\n",
       "    'expression': \"if simile_laghi and ('conc_chl'>0) and ('conc_chl'<=15) and ('rtoa_15'<0.04) and not (Cloud_risk or Rtosa_OOS or Rtosa_OOR or Rhow_OOR) then ('conc_chl') else NaN\"},\n",
       "   {'name': 'tsm_threshold_lower',\n",
       "    'type': 'float32',\n",
       "    'expression': \"if simile_laghi and ('conc_chl'>0) and ('rtoa_15'<0.04) and not (Cloud_risk or Rtosa_OOS or Rtosa_OOR or Rhow_OOR) then ('conc_tsm') else NaN\"},\n",
       "   {'name': 'chl_threshold',\n",
       "    'type': 'float32',\n",
       "    'expression': \"if simile_laghi and ('conc_chl'>0) and ('rtoa_15'<0.04) and not (Cloud_risk or Rtosa_OOS or Rtosa_OOR or Rhow_OOR) then ('conc_chl') else NaN\"},\n",
       "   {'name': 'tsm_threshold',\n",
       "    'type': 'float32',\n",
       "    'expression': \"if simile_laghi and ('conc_chl'>0) and ('rtoa_15'<0.04) and not (Cloud_risk or Rtosa_OOS or Rtosa_OOR or Rhow_OOR) then ('conc_tsm') else NaN\"}]}]"
      ]
     },
     "execution_count": 24,
     "metadata": {},
     "output_type": "execute_result"
    }
   ],
   "source": [
    "# It is possible to create your custom band math operations by editing the wqpParams file\n",
    "wqpParams.params_bandMaths"
   ]
  },
  {
   "cell_type": "code",
   "execution_count": 25,
   "metadata": {},
   "outputs": [],
   "source": [
    "bandMaths_product_C2RCC = wqpSNAP.executeSNAPFunction(importVector_product, wqpParams.params_bandMaths)"
   ]
  },
  {
   "cell_type": "code",
   "execution_count": 26,
   "metadata": {},
   "outputs": [
    {
     "name": "stdout",
     "output_type": "stream",
     "text": [
      "['chl', 'tsm', 'chl_no_mask', 'tsm_no_mask', 'chl_cloud_mask', 'tsm_cloud_mask', 'chl_b15ok', 'tsm_b15ok', 'rtoa_15', 'chl_threshold_lower', 'tsm_threshold_lower', 'chl_threshold', 'tsm_threshold']\n"
     ]
    }
   ],
   "source": [
    "print(list(bandMaths_product_C2RCC.getBandNames()))"
   ]
  },
  {
   "cell_type": "markdown",
   "metadata": {},
   "source": [
    "### 6.2. Compute radiance bands from product"
   ]
  },
  {
   "cell_type": "code",
   "execution_count": 27,
   "metadata": {},
   "outputs": [],
   "source": [
    "bandMaths_product_oa = wqpSNAP.executeSNAPFunction(reproject_product, wqpParams.params_bandMaths_oa)"
   ]
  },
  {
   "cell_type": "code",
   "execution_count": 28,
   "metadata": {},
   "outputs": [
    {
     "name": "stdout",
     "output_type": "stream",
     "text": [
      "['Oa01_radiance', 'Oa02_radiance', 'Oa03_radiance', 'Oa04_radiance', 'Oa05_radiance', 'Oa06_radiance', 'Oa07_radiance', 'Oa08_radiance', 'Oa09_radiance', 'Oa10_radiance', 'Oa11_radiance', 'Oa12_radiance', 'Oa13_radiance', 'Oa14_radiance', 'Oa15_radiance', 'Oa16_radiance', 'Oa17_radiance', 'Oa18_radiance', 'Oa19_radiance', 'Oa20_radiance', 'Oa21_radiance']\n"
     ]
    }
   ],
   "source": [
    "print(list(bandMaths_product_oa.getBandNames()))"
   ]
  },
  {
   "cell_type": "markdown",
   "metadata": {},
   "source": [
    "### 6.3. Compute water surface radiances"
   ]
  },
  {
   "cell_type": "code",
   "execution_count": 29,
   "metadata": {},
   "outputs": [],
   "source": [
    "bandMaths_product_rrs = wqpSNAP.executeSNAPFunction(importVector_product, wqpParams.params_bandMaths_rrs)"
   ]
  },
  {
   "cell_type": "code",
   "execution_count": 30,
   "metadata": {},
   "outputs": [
    {
     "name": "stdout",
     "output_type": "stream",
     "text": [
      "['rrs_1', 'rrs_2', 'rrs_3', 'rrs_4', 'rrs_5', 'rrs_6', 'rrs_7', 'rrs_8', 'rrs_9', 'rrs_10', 'rrs_11', 'rrs_12', 'rrs_16', 'rrs_17', 'rrs_18', 'rrs_21', 'Cloud_risk', 'Rtosa_OOS', 'Rtosa_OOR', 'Rhow_OOR']\n"
     ]
    }
   ],
   "source": [
    "print(list(bandMaths_product_rrs.getBandNames()))"
   ]
  },
  {
   "cell_type": "markdown",
   "metadata": {},
   "source": [
    "### 6.4. Compute masks"
   ]
  },
  {
   "cell_type": "code",
   "execution_count": 31,
   "metadata": {},
   "outputs": [],
   "source": [
    "bandMaths_product_masks = wqpSNAP.executeSNAPFunction(importVector_product, wqpParams.params_bandMaths_masks)"
   ]
  },
  {
   "cell_type": "code",
   "execution_count": 32,
   "metadata": {},
   "outputs": [
    {
     "name": "stdout",
     "output_type": "stream",
     "text": [
      "['Cloud_risk', 'Rtosa_OOS', 'Rtosa_OOR', 'Rhow_OOR']\n"
     ]
    }
   ],
   "source": [
    "print(list(bandMaths_product_masks.getBandNames()))"
   ]
  },
  {
   "cell_type": "markdown",
   "metadata": {},
   "source": [
    "## 7. Extract bands"
   ]
  },
  {
   "cell_type": "code",
   "execution_count": 33,
   "metadata": {},
   "outputs": [],
   "source": [
    "# Product bands to be extracted\n",
    "\n",
    "# C2RCC WQP estimates - all masks applied (lake vector included)\n",
    "bandExtract_product_chl = wqpSNAP.executeSNAPFunction(bandMaths_product_C2RCC, wqpParams.params_bandExtractor_chl)\n",
    "bandExtract_product_tsm = wqpSNAP.executeSNAPFunction(bandMaths_product_C2RCC, wqpParams.params_bandExtractor_tsm)\n",
    "\n",
    "# C2RCC WQP estimates - no clip - rest of masks applied\n",
    "bandExtract_product_chl_no_clip = wqpSNAP.executeSNAPFunction(bandMaths_product_C2RCC, wqpParams.params_bandExtractor_chl_no_clip)\n",
    "bandExtract_product_tsm_no_clip = wqpSNAP.executeSNAPFunction(bandMaths_product_C2RCC, wqpParams.params_bandExtractor_tsm_no_clip)\n",
    "\n",
    "# C2RCC WQP estimates - no masks \n",
    "bandExtract_product_chl_no_mask = wqpSNAP.executeSNAPFunction(bandMaths_product_C2RCC, wqpParams.params_bandExtractor_chl_no_masks)\n",
    "bandExtract_product_tsm_no_mask = wqpSNAP.executeSNAPFunction(bandMaths_product_C2RCC, wqpParams.params_bandExtractor_tsm_no_masks)\n",
    "\n",
    "# C2RCC WQP estimates - cloud masks only\n",
    "bandExtract_product_chl_cloud_mask = wqpSNAP.executeSNAPFunction(bandMaths_product_C2RCC, wqpParams.params_bandExtractor_chl_cloud_mask)\n",
    "bandExtract_product_tsm_cloud_mask = wqpSNAP.executeSNAPFunction(bandMaths_product_C2RCC, wqpParams.params_bandExtractor_tsm_cloud_mask)\n",
    "\n",
    "# Auxiliary bands\n",
    "bandExtract_product_oa = wqpSNAP.executeSNAPFunction(bandMaths_product_oa, wqpParams.params_bandExtractor_oa)\n",
    "bandExtract_product_rrs = wqpSNAP.executeSNAPFunction(bandMaths_product_rrs, wqpParams.params_bandExtractor_rrs)\n",
    "bandExtract_product_masks = wqpSNAP.executeSNAPFunction(bandMaths_product_masks, wqpParams.params_bandExtractor_masks)"
   ]
  },
  {
   "cell_type": "markdown",
   "metadata": {},
   "source": [
    "## 8. Write Products"
   ]
  },
  {
   "cell_type": "code",
   "execution_count": 34,
   "metadata": {},
   "outputs": [
    {
     "data": {
      "text/plain": [
       "{'path': './in/data/satellite_imagery/S3/S3A_OL_1_EFR____20220201T091325_20220201T091625_20220202T131715_0179_081_264_2160_LN1_O_NT_002.SEN3/xfdumanifest.xml',\n",
       " 'name': 'S3A_OL_1_EFR____20220201T091325_20220201T091625_20220202T131715_0179_081_264_2160_LN1_O_NT_002',\n",
       " 'bbox': {'minLat': 45.3, 'maxLat': 46.65, 'minLon': 7.9, 'maxLon': 9.95},\n",
       " 'product': org.esa.snap.core.datamodel.Product(objectRef=0x000001FAF7F621D0),\n",
       " 'bbox_prod': {'minLat': 39.544542357325554,\n",
       "  'maxLat': 52.45314759016037,\n",
       "  'minLon': 6.897687152028084,\n",
       "  'maxLon': 26.900954730808735},\n",
       " 'bbox_trim': {'minLat': 45.3, 'minLon': 7.9, 'maxLat': 46.65, 'maxLon': 9.95}}"
      ]
     },
     "execution_count": 34,
     "metadata": {},
     "output_type": "execute_result"
    }
   ],
   "source": [
    "s3_image.__dict__"
   ]
  },
  {
   "cell_type": "code",
   "execution_count": 35,
   "metadata": {
    "scrolled": true
   },
   "outputs": [
    {
     "data": {
      "text/plain": [
       "{'in': './in/data/satellite_imagery/S3',\n",
       " 'out': './in/data/wqp/S3',\n",
       " 'out_masks': './in/data/wqp/S3\\\\masks',\n",
       " 'out_oa': './in/data/wqp/S3\\\\oa',\n",
       " 'out_rrs': './in/data/wqp/S3\\\\rrs',\n",
       " 'out_wqp': './in/data/wqp/S3\\\\wqp',\n",
       " 'out_wqp_cloud': './in/data/wqp/S3\\\\wqp_cloud_mask',\n",
       " 'out_wqp_no_mask': './in/data/wqp/S3\\\\wqp_no_mask',\n",
       " 'in_parameters': '.\\\\in\\\\data\\\\satellite_imagery\\\\wqp_parameters',\n",
       " 'vectorFile': '.\\\\vector\\\\simile_laghi\\\\simile_laghi.shp'}"
      ]
     },
     "execution_count": 35,
     "metadata": {},
     "output_type": "execute_result"
    }
   ],
   "source": [
    "cwd_path"
   ]
  },
  {
   "cell_type": "code",
   "execution_count": 36,
   "metadata": {},
   "outputs": [],
   "source": [
    "writeFormat = 'GeoTIFF'"
   ]
  },
  {
   "cell_type": "code",
   "execution_count": 37,
   "metadata": {},
   "outputs": [
    {
     "data": {
      "text/plain": [
       "'./in/data/satellite_imagery/S3/S3A_OL_1_EFR____20220201T091325_20220201T091625_20220202T131715_0179_081_264_2160_LN1_O_NT_002.SEN3/xfdumanifest.xml'"
      ]
     },
     "execution_count": 37,
     "metadata": {},
     "output_type": "execute_result"
    }
   ],
   "source": [
    "s3_image.path"
   ]
  },
  {
   "cell_type": "code",
   "execution_count": 38,
   "metadata": {},
   "outputs": [
    {
     "data": {
      "text/plain": [
       "'./in/data/wqp/S3\\\\wqp'"
      ]
     },
     "execution_count": 38,
     "metadata": {},
     "output_type": "execute_result"
    }
   ],
   "source": [
    "cwd_path['out_wqp']"
   ]
  },
  {
   "cell_type": "markdown",
   "metadata": {},
   "source": [
    "Define the paths for the outputs"
   ]
  },
  {
   "cell_type": "code",
   "execution_count": 39,
   "metadata": {},
   "outputs": [],
   "source": [
    "# Retrieve the sensor name and date of acquisition\n",
    "sensor = s3_image.name.split('\\\\')[-1].split('_')[0]\n",
    "sensor_date = s3_image.path.split('\\\\')[-1].split('_')[8]\n",
    "\n",
    "'''\n",
    "Define the output paths for the different products\n",
    "''' \n",
    "# All masks applied\n",
    "out_path_chl = os.path.join(cwd_path['out_wqp']+'\\\\chl\\\\'+sensor+'_CHL_IT_'+sensor_date+'_L1')\n",
    "out_path_tsm = os.path.join(cwd_path['out_wqp']+'\\\\tsm\\\\'+sensor+'_TSM_IT_'+sensor_date+'_L1')\n",
    "# All masks expect clip\n",
    "out_path_chl_no_clip = os.path.join(cwd_path['out_wqp_no_clip']+'\\\\chl\\\\'+sensor+'_CHL_IT_'+sensor_date+'_L1')\n",
    "out_path_tsm_no_clip = os.path.join(cwd_path['out_wqp_no_clip']+'\\\\tsm\\\\'+sensor+'_TSM_IT_'+sensor_date+'_L1')\n",
    "# No masks applied nor clip\n",
    "out_path_chl_no_mask = os.path.join(cwd_path['out_wqp_no_mask']+'\\\\chl\\\\'+sensor+'_CHL_IT_'+sensor_date+'_L1')\n",
    "out_path_tsm_no_mask = os.path.join(cwd_path['out_wqp_no_mask']+'\\\\tsm\\\\'+sensor+'_TSM_IT_'+sensor_date+'_L1')\n",
    "# Only cloud mask applied\n",
    "out_path_chl_cloud_mask = os.path.join(cwd_path['out_wqp_cloud']+'\\\\chl\\\\'+sensor+'_CHL_IT_'+sensor_date+'_L1')\n",
    "out_path_tsm_cloud_mask = os.path.join(cwd_path['out_wqp_cloud']+'\\\\tsm\\\\'+sensor+'_TSM_IT_'+sensor_date+'_L1')\n",
    "# Mask layers\n",
    "out_path_mask = os.path.join(cwd_path['out_masks']+'\\\\'+sensor+'_IT_'+sensor_date+'_L1')\n",
    "# Radiences layers\n",
    "out_path_oa = os.path.join(cwd_path['out_oa']+'\\\\'+sensor+'_IT_'+sensor_date+'_L1')\n",
    "# Water surface radiance layers\n",
    "out_path_rrs = os.path.join(cwd_path['out_rrs']+'\\\\'+sensor+'_IT_'+sensor_date+'_L1')"
   ]
  },
  {
   "cell_type": "markdown",
   "metadata": {},
   "source": [
    "Export the products to file system"
   ]
  },
  {
   "cell_type": "code",
   "execution_count": 42,
   "metadata": {},
   "outputs": [],
   "source": [
    "'''\n",
    "Save the different WQP products\n",
    "''' \n",
    "# All masks applied\n",
    "wqpSNAP.exportProductBands(bandExtract_product_chl, out_path_chl, writeFormat)\n",
    "wqpSNAP.exportProductBands(bandExtract_product_tsm, out_path_tsm, writeFormat)\n",
    "# All masks expect clip\n",
    "wqpSNAP.exportProductBands(bandExtract_product_chl_no_clip, out_path_chl_no_clip, writeFormat)\n",
    "wqpSNAP.exportProductBands(bandExtract_product_tsm_no_clip, out_path_tsm_no_clip, writeFormat)\n",
    "# No masks applied nor clip\n",
    "wqpSNAP.exportProductBands(bandExtract_product_chl_no_mask, out_path_chl_no_mask, writeFormat)\n",
    "wqpSNAP.exportProductBands(bandExtract_product_tsm_no_mask, out_path_tsm_no_mask, writeFormat)\n",
    "# Only cloud mask applied\n",
    "wqpSNAP.exportProductBands(bandExtract_product_chl_cloud_mask, out_path_chl_cloud_mask, writeFormat)\n",
    "wqpSNAP.exportProductBands(bandExtract_product_tsm_cloud_mask, out_path_tsm_cloud_mask, writeFormat)\n",
    "# Mask layers\n",
    "wqpSNAP.exportProductBands(bandExtract_product_masks, out_path_mask, writeFormat)\n",
    "# Radiences layers\n",
    "wqpSNAP.exportProductBands(bandExtract_product_oa, out_path_oa, writeFormat)\n",
    "# Water surface radiance layers\n",
    "wqpSNAP.exportProductBands(bandExtract_product_rrs, out_path_rrs, writeFormat)"
   ]
  },
  {
   "cell_type": "markdown",
   "metadata": {},
   "source": [
    "<p class='warning'><strong>Note:</strong>Once finished the processing of the products remember to close them</p> "
   ]
  },
  {
   "cell_type": "code",
   "execution_count": 43,
   "metadata": {},
   "outputs": [],
   "source": [
    "del s3_image\n",
    "subset_product.dispose() \n",
    "reproject_product.dispose()\n",
    "c2rcc_product.dispose()\n",
    "importVector_product.dispose()\n",
    "bandExtract_product_chl.dispose()\n",
    "bandExtract_product_tsm.dispose()\n",
    "bandExtract_product_chl_no_mask.dispose()\n",
    "bandExtract_product_tsm_no_mask.dispose()\n",
    "bandExtract_product_chl_cloud_mask.dispose()\n",
    "bandExtract_product_tsm_cloud_mask.dispose()\n",
    "bandExtract_product_rrs.dispose()\n",
    "bandExtract_product_oa.dispose()\n",
    "bandExtract_product_masks.dispose()"
   ]
  }
 ],
 "metadata": {
  "kernelspec": {
   "display_name": "Python 3",
   "language": "python",
   "name": "python3"
  },
  "language_info": {
   "codemirror_mode": {
    "name": "ipython",
    "version": 3
   },
   "file_extension": ".py",
   "mimetype": "text/x-python",
   "name": "python",
   "nbconvert_exporter": "python",
   "pygments_lexer": "ipython3",
   "version": "3.6.12"
  }
 },
 "nbformat": 4,
 "nbformat_minor": 4
}
