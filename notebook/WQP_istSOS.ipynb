{
 "cells": [
  {
   "cell_type": "markdown",
   "metadata": {},
   "source": [
    "# Water Quality Parameters - istSOS upload"
   ]
  },
  {
   "cell_type": "markdown",
   "metadata": {},
   "source": [
    "The current notebook introduces the computation and ingestion of the aggregate descriptive statistics, on a basins level, of the Water Quality Paramenters produced under the framework of SIMILE project into the [istSOS](http://www.istsos.org/) platform. Additional information on the istSOS capabilities and REST API can be found in its [documentation](http://istsos.org/en/latest/doc/) page."
   ]
  },
  {
   "cell_type": "markdown",
   "metadata": {},
   "source": [
    "## 0. Setup Working Environment"
   ]
  },
  {
   "cell_type": "markdown",
   "metadata": {},
   "source": [
    "### Working libraries and Notebook setup"
   ]
  },
  {
   "cell_type": "code",
   "execution_count": 6,
   "metadata": {},
   "outputs": [
    {
     "data": {
      "text/html": [
       "<style>\n",
       "/* Config settings*/\n",
       "@import url(https://fonts.googleapis.com/css?family=Open+Sans);\n",
       "body{\n",
       "   font-family: 'Open Sans';\n",
       "}\n",
       "\n",
       "/* Styling the Jupyter Notebook GUI*/\n",
       "#ipython_notebook::before{\n",
       "    content:\"\"\n",
       "   }\n",
       "\n",
       "/* #ipython_notebook img{\n",
       "display:none;\n",
       "} */\n",
       "\n",
       "/*Styling the elements in the Jupyter Notebook*/\n",
       "h1 {\n",
       "    color: white;\n",
       "    border: 1.5px solid rgb(46, 96, 177);\n",
       "    padding: 8px 12px;\n",
       "    background: rgba(37, 107, 182, 0.5);\n",
       "    position: static;\n",
       "}\n",
       "\n",
       "h2 {\n",
       "    color: white;\n",
       "    border: 1.5px solid rgb(46, 170, 177);\n",
       "    padding: 8px 12px;\n",
       "    background: rgba(46, 170, 177, 0.5);\n",
       "    position: static;\n",
       "}\n",
       "\n",
       "h3 {\n",
       "    color: white;\n",
       "    border: 1.5px solid rgb(192, 119, 255);\n",
       "    padding: 8px 12px;\n",
       "    background: rgba(170, 74, 255, 0.5);\n",
       "    position: static;\n",
       "}\n",
       "\n",
       ".note {\n",
       "    background-color: rgba(0, 255, 162, 0.503);\n",
       "}\n",
       "\n",
       ".warning {\n",
       "    background-color: rgba(246, 255, 0, 0.503);\n",
       "}\n",
       "\n",
       ".important {\n",
       "    background-color: rgba(255, 187, 0, 0.503);\n",
       "}\n",
       "\n",
       "\n",
       "</style>"
      ],
      "text/plain": [
       "<IPython.core.display.HTML object>"
      ]
     },
     "execution_count": 6,
     "metadata": {},
     "output_type": "execute_result"
    }
   ],
   "source": [
    "# Styling notebook\n",
    "\n",
    "# System\n",
    "import os\n",
    "import sys\n",
    "\n",
    "# Import scripts libraries for the project\n",
    "sys.path.append('./src/python')\n",
    "\n",
    "\n",
    "# Import the function to update the notebook style\n",
    "from nbConfig import (css_styling)\n",
    "\n",
    "css_styling()"
   ]
  },
  {
   "cell_type": "code",
   "execution_count": 7,
   "metadata": {},
   "outputs": [],
   "source": [
    "# Data\n",
    "import numpy as np\n",
    "import pandas as pd\n",
    "import pytz\n",
    "import json\n",
    "import requests\n",
    "\n",
    "# Spatial Data\n",
    "import geopandas as gpd\n",
    "import rasterio\n",
    "from rasterstats import zonal_stats\n",
    "\n",
    "# Data visualization\n",
    "import matplotlib.pyplot as plt\n",
    "import seaborn as sns\n",
    "from rasterio.plot import show_hist\n",
    "\n",
    "# Import custom libraries\n",
    "import wqp_istSOS as istsos\n",
    "import wqpFunctions as wqp\n",
    "\n",
    "# Widgets\n",
    "import ipywidgets as wg"
   ]
  },
  {
   "cell_type": "code",
   "execution_count": 8,
   "metadata": {},
   "outputs": [],
   "source": [
    "# Current Working Directories\n",
    "cwd = {\n",
    "    'local': '.',\n",
    "    'in': './in/data/',\n",
    "    'out': './out/istSOS/',\n",
    "    'vector': './vector',\n",
    "}"
   ]
  },
  {
   "cell_type": "markdown",
   "metadata": {},
   "source": [
    "### istSOS client authentication"
   ]
  },
  {
   "cell_type": "code",
   "execution_count": 4,
   "metadata": {
    "scrolled": true
   },
   "outputs": [],
   "source": [
    "c = istsos.istSOSClient(TOKEN_URL=istsos.istSOSClient.TOKEN_URL,\n",
    "                        HEADERS=istsos.istSOSClient.HEADERS,\n",
    "                        API_ENDPOINT=istsos.istSOSClient.API_ENDPOINT,\n",
    "                        ENV_FILE='../env.json')"
   ]
  },
  {
   "cell_type": "code",
   "execution_count": 5,
   "metadata": {},
   "outputs": [
    {
     "name": "stdout",
     "output_type": "stream",
     "text": [
      "Creating authentication token.\n",
      "\n",
      "The procedure SATELLITE_CHL_TURB_LU_EAST has not been provided with an ID.\n",
      "The procedure SATELLITE_CHL_TURB_LU_WEST has not been provided with an ID.\n",
      "The procedure SATELLITE_CHL_TURB_MA_ALL has not been provided with an ID.\n",
      "The procedure SATELLITE_WT_LU_EAST has not been provided with an ID.\n",
      "The procedure SATELLITE_WT_LU_WEST has not been provided with an ID.\n",
      "The procedure SATELLITE_WT_MA_ALL has not been provided with an ID.\n",
      "The procedure SATELLITE_CHL_TURB_LU_EAST has not been provided with an ID.\n",
      "The procedure SATELLITE_CHL_TURB_LU_WEST has not been provided with an ID.\n",
      "The procedure SATELLITE_CHL_TURB_MA_ALL has not been provided with an ID.\n",
      "The procedure SATELLITE_WT_LU_EAST has not been provided with an ID.\n",
      "The procedure SATELLITE_WT_LU_WEST has not been provided with an ID.\n",
      "The procedure SATELLITE_WT_MA_ALL has not been provided with an ID.\n"
     ]
    }
   ],
   "source": [
    "#\n",
    "assigned_sensor_id = c.getProcedureIDs(istsos.istSOSClient.PROCEDURES_LIST)"
   ]
  },
  {
   "cell_type": "markdown",
   "metadata": {},
   "source": [
    "## 1. Vector Data - Basins\n",
    "\n",
    "In this section, we import the vector layer for the computation of the aggregate statistics, based in the features of the imported layer. In this case, for the division of the lakes ata a basing level."
   ]
  },
  {
   "cell_type": "code",
   "execution_count": 6,
   "metadata": {},
   "outputs": [],
   "source": [
    "# Layer dataset\n",
    "gdf_basins = gpd.read_file(os.path.join(cwd['vector'],'simile_basins','simile_basins.shp'))"
   ]
  },
  {
   "cell_type": "code",
   "execution_count": 7,
   "metadata": {},
   "outputs": [
    {
     "data": {
      "text/html": [
       "<div>\n",
       "<style scoped>\n",
       "    .dataframe tbody tr th:only-of-type {\n",
       "        vertical-align: middle;\n",
       "    }\n",
       "\n",
       "    .dataframe tbody tr th {\n",
       "        vertical-align: top;\n",
       "    }\n",
       "\n",
       "    .dataframe thead th {\n",
       "        text-align: right;\n",
       "    }\n",
       "</style>\n",
       "<table border=\"1\" class=\"dataframe\">\n",
       "  <thead>\n",
       "    <tr style=\"text-align: right;\">\n",
       "      <th></th>\n",
       "      <th>id</th>\n",
       "      <th>Nome</th>\n",
       "      <th>Lago</th>\n",
       "      <th>geometry</th>\n",
       "    </tr>\n",
       "  </thead>\n",
       "  <tbody>\n",
       "    <tr>\n",
       "      <th>0</th>\n",
       "      <td>1</td>\n",
       "      <td>CO_NORTH</td>\n",
       "      <td>Como</td>\n",
       "      <td>POLYGON ((520421.398 5093134.438, 518210.057 5...</td>\n",
       "    </tr>\n",
       "    <tr>\n",
       "      <th>1</th>\n",
       "      <td>2</td>\n",
       "      <td>CO_EAST</td>\n",
       "      <td>Como</td>\n",
       "      <td>POLYGON ((529880.155 5077362.548, 529751.125 5...</td>\n",
       "    </tr>\n",
       "    <tr>\n",
       "      <th>2</th>\n",
       "      <td>3</td>\n",
       "      <td>CO_WEST</td>\n",
       "      <td>Como</td>\n",
       "      <td>POLYGON ((518210.057 5094904.495, 520421.398 5...</td>\n",
       "    </tr>\n",
       "    <tr>\n",
       "      <th>3</th>\n",
       "      <td>4</td>\n",
       "      <td>LU_EAST</td>\n",
       "      <td>Lugano</td>\n",
       "      <td>MULTIPOLYGON (((497195.068 5088902.843, 496990...</td>\n",
       "    </tr>\n",
       "    <tr>\n",
       "      <th>4</th>\n",
       "      <td>5</td>\n",
       "      <td>LU_WEST</td>\n",
       "      <td>Lugano</td>\n",
       "      <td>POLYGON ((492500.964 5083295.972, 492437.780 5...</td>\n",
       "    </tr>\n",
       "    <tr>\n",
       "      <th>5</th>\n",
       "      <td>6</td>\n",
       "      <td>MA_ALL</td>\n",
       "      <td>Maggiore</td>\n",
       "      <td>POLYGON ((467817.948 5063396.238, 467709.246 5...</td>\n",
       "    </tr>\n",
       "  </tbody>\n",
       "</table>\n",
       "</div>"
      ],
      "text/plain": [
       "   id      Nome      Lago                                           geometry\n",
       "0   1  CO_NORTH      Como  POLYGON ((520421.398 5093134.438, 518210.057 5...\n",
       "1   2   CO_EAST      Como  POLYGON ((529880.155 5077362.548, 529751.125 5...\n",
       "2   3   CO_WEST      Como  POLYGON ((518210.057 5094904.495, 520421.398 5...\n",
       "3   4   LU_EAST    Lugano  MULTIPOLYGON (((497195.068 5088902.843, 496990...\n",
       "4   5   LU_WEST    Lugano  POLYGON ((492500.964 5083295.972, 492437.780 5...\n",
       "5   6    MA_ALL  Maggiore  POLYGON ((467817.948 5063396.238, 467709.246 5..."
      ]
     },
     "execution_count": 7,
     "metadata": {},
     "output_type": "execute_result"
    }
   ],
   "source": [
    "gdf_basins"
   ]
  },
  {
   "cell_type": "code",
   "execution_count": 8,
   "metadata": {},
   "outputs": [
    {
     "data": {
      "image/png": "[encoded data removed]",
      "text/plain": [
       "<Figure size 720x720 with 1 Axes>"
      ]
     },
     "metadata": {
      "needs_background": "light"
     },
     "output_type": "display_data"
    }
   ],
   "source": [
    "fig ,ax = plt.subplots(1,1,figsize=(10,10))\n",
    "gdf_basins.plot(ax = ax, color=\"blue\", edgecolor=\"black\", alpha = 0.3)\n",
    "ax.grid()"
   ]
  },
  {
   "cell_type": "markdown",
   "metadata": {},
   "source": [
    "## 2. Compute Descriptive Statistics - Basin Level"
   ]
  },
  {
   "cell_type": "markdown",
   "metadata": {},
   "source": [
    "### Procedure Selection - Data Formatting for upload"
   ]
  },
  {
   "cell_type": "code",
   "execution_count": 9,
   "metadata": {},
   "outputs": [],
   "source": [
    "procedure = wg.Select(\n",
    "    options = istsos.istSOSClient.PROCEDURES_LIST,\n",
    "    value = istsos.istSOSClient.PROCEDURES_LIST[0],\n",
    "    description = 'Select the procedure:',\n",
    "    disabled = False,\n",
    "    style = {\n",
    "        'description_width': 'auto'\n",
    "    },\n",
    "    layout = wg.Layout(width='50%', height='100px'),\n",
    ")"
   ]
  },
  {
   "cell_type": "code",
   "execution_count": 10,
   "metadata": {
    "scrolled": true
   },
   "outputs": [],
   "source": [
    "sensor = wg.Select(\n",
    "    options = ['S3', 'L8'],\n",
    "    value = 'S3',\n",
    "    description = 'Select the sensor:',\n",
    "    disabled = False,\n",
    "    style = {\n",
    "        'description_width': 'auto'\n",
    "    },\n",
    "    layout = wg.Layout(width='50%', height='100px'),\n",
    ")"
   ]
  },
  {
   "cell_type": "code",
   "execution_count": 11,
   "metadata": {},
   "outputs": [
    {
     "data": {
      "application/vnd.jupyter.widget-view+json": {
       "model_id": "e335cb08c2f54599a01d28b6d128efae",
       "version_major": 2,
       "version_minor": 0
      },
      "text/plain": [
       "HBox(children=(Select(description='Select the procedure:', layout=Layout(height='100px', width='50%'), options…"
      ]
     },
     "metadata": {},
     "output_type": "display_data"
    }
   ],
   "source": [
    "wg.HBox([procedure, sensor])"
   ]
  },
  {
   "cell_type": "code",
   "execution_count": 12,
   "metadata": {},
   "outputs": [
    {
     "name": "stdout",
     "output_type": "stream",
     "text": [
      "GetObservation requested successfully executed\n"
     ]
    }
   ],
   "source": [
    "# c.updateBearerToken()\n",
    "data = c.getRequestSample(procedure.value)"
   ]
  },
  {
   "cell_type": "code",
   "execution_count": 13,
   "metadata": {},
   "outputs": [
    {
     "data": {
      "text/plain": [
       "{'name': 'SATELLITE_CHL_TURB_CO_EAST',\n",
       " 'samplingTime': {'beginPosition': '2020-01-01T00:01:00+00:00',\n",
       "  'endPosition': '2020-01-17T00:01:00+00:00',\n",
       "  'duration': 'P16D'},\n",
       " 'procedure': 'urn:ogc:def:procedure:x-istsos:1.0:SATELLITE_CHL_TURB_CO_EAST',\n",
       " 'observedProperty': {'CompositePhenomenon': {'id': 'comp_28',\n",
       "   'dimension': '5',\n",
       "   'name': 'timeSeriesOfObservations'},\n",
       "  'component': ['urn:ogc:def:parameter:x-istsos:1.0:time:iso8601',\n",
       "   'urn:ogc:def:parameter:x-istsos:1.0:water:Chl',\n",
       "   'urn:ogc:def:parameter:x-istsos:1.0:water:Chl:qualityIndex',\n",
       "   'urn:ogc:def:parameter:x-istsos:1.0:water:Turb',\n",
       "   'urn:ogc:def:parameter:x-istsos:1.0:water:Turb:qualityIndex']},\n",
       " 'featureOfInterest': {'name': 'urn:ogc:def:feature:x-istsos:1.0:Point:COMO_EAST',\n",
       "  'geom': \"<gml:Point srsName='EPSG:4326'><gml:coordinates>9.29834126943655,45.9322514262755,197.3</gml:coordinates></gml:Point>\"},\n",
       " 'result': {'DataArray': {'elementCount': '5',\n",
       "   'field': [{'name': 'Time',\n",
       "     'definition': 'urn:ogc:def:parameter:x-istsos:1.0:time:iso8601'},\n",
       "    {'name': 'water-Chl',\n",
       "     'definition': 'urn:ogc:def:parameter:x-istsos:1.0:water:Chl',\n",
       "     'uom': 'mg/m^3'},\n",
       "    {'name': 'water-Chl:qualityIndex',\n",
       "     'definition': 'urn:ogc:def:parameter:x-istsos:1.0:water:Chl:qualityIndex',\n",
       "     'uom': '-'},\n",
       "    {'name': 'water-Turb',\n",
       "     'definition': 'urn:ogc:def:parameter:x-istsos:1.0:water:Turb',\n",
       "     'uom': 'g/m^3'},\n",
       "    {'name': 'water-Turb:qualityIndex',\n",
       "     'definition': 'urn:ogc:def:parameter:x-istsos:1.0:water:Turb:qualityIndex',\n",
       "     'uom': '-'}],\n",
       "   'values': [['2020-01-17T00:01:00+00:00', 3.48, 100, 1.03, 100]]}}}"
      ]
     },
     "execution_count": 13,
     "metadata": {},
     "output_type": "execute_result"
    }
   ],
   "source": [
    "data"
   ]
  },
  {
   "cell_type": "markdown",
   "metadata": {},
   "source": [
    "### Export Basin Stats to CSV files"
   ]
  },
  {
   "cell_type": "markdown",
   "metadata": {},
   "source": [
    "If needed to remove double-check that the nan values in the datasets are identified correctly uncomment the following cell. As a first step, the images will be subset to same size images."
   ]
  },
  {
   "cell_type": "code",
   "execution_count": 4,
   "metadata": {},
   "outputs": [],
   "source": [
    "# Produce the cropped maps for the WQP of interest\n",
    "products_list = [\n",
    "    'wqp',\n",
    "    'wqp_cloud_mask',\n",
    "    'wqp_no_clip',\n",
    "    'wqp_no_mask',\n",
    "]\n",
    "# Typology of the products\n",
    "typology_list = [\n",
    "    'chl',\n",
    "    'tsm',\n",
    "    'lswt'\n",
    "]\n",
    "# Subset to the buffer size (same used as for the coregistration)\n",
    "featureGeometry = os.path.join(cwd['vector'],'simile_laghi_extent/simile_laghi_extent_600m_buff.shp')"
   ]
  },
  {
   "cell_type": "code",
   "execution_count": 5,
   "metadata": {},
   "outputs": [
    {
     "data": {
      "application/vnd.jupyter.widget-view+json": {
       "model_id": "4e389a3b1a15472d8193b398aabeb8a7",
       "version_major": 2,
       "version_minor": 0
      },
      "text/plain": [
       "HBox(children=(Select(description='Select the products:', layout=Layout(height='100px', width='50%'), options=…"
      ]
     },
     "metadata": {},
     "output_type": "display_data"
    }
   ],
   "source": [
    "products = wg.Select(\n",
    "    options = products_list,\n",
    "    value = products_list[0],\n",
    "    description = 'Select the products:',\n",
    "    disabled = False,\n",
    "    style = {\n",
    "        'description_width': 'auto'\n",
    "    },\n",
    "    layout = wg.Layout(width='50%', height='100px'),\n",
    ")\n",
    "\n",
    "typology = wg.Select(\n",
    "    options = typology_list,\n",
    "    value = typology_list[0],\n",
    "    description = 'Select the WQP type:',\n",
    "    disabled = False,\n",
    "    style = {\n",
    "        'description_width': 'auto'\n",
    "    },\n",
    "    layout = wg.Layout(width='50%', height='100px'),\n",
    ")\n",
    "\n",
    "# Widgets\n",
    "wg.HBox([products, typology])"
   ]
  },
  {
   "cell_type": "code",
   "execution_count": 69,
   "metadata": {},
   "outputs": [
    {
     "name": "stdout",
     "output_type": "stream",
     "text": [
      "./in/data/wqp\\S3\\wqp_no_mask\\tsm\\cropped\n",
      "['cropped']\n"
     ]
    }
   ],
   "source": [
    "in_path = os.path.join(cwd['in'],'wqp',sensor.value,products.value,typology.value)\n",
    "out_path = os.path.join(in_path,'cropped')\n",
    "print\n",
    "\n",
    "# shared_maps = list(set(os.listdir(in_path)).intersection(os.listdir(out_path)))\n",
    "missing_maps = list(set(os.listdir(in_path)) ^ set(os.listdir(out_path)))\n",
    "print(missing_maps)\n",
    "for root, dirs, files in os.walk(in_path):\n",
    "    for f in missing_maps:\n",
    "        if ((f.endswith('.tif')) & (dirs==['cropped'])):\n",
    "            chl_map = os.path.join(in_path,f)\n",
    "            print(chl_map)\n",
    "            wqp_map = wqp.wqp(chl_map)\n",
    "            wqp_map.readWQP()\n",
    "            wqp_map.cropRasterByFeatures(featureGeometry,'Nome')\n",
    "            d_temp = wqp_map.crops['wqp']['crop']\n",
    "            d_temp[d_temp<0] = 0\n",
    "            wqp_map.crops['wqp']['crop'] = d_temp\n",
    "            wqp_map.saveMaskedImage(os.path.join(out_path,wqp_map.name+'.tif'),'wqp',band=1)\n",
    "            wqp_map.image.close()"
   ]
  },
  {
   "cell_type": "code",
   "execution_count": 70,
   "metadata": {
    "collapsed": true
   },
   "outputs": [
    {
     "name": "stdout",
     "output_type": "stream",
     "text": [
      "S3A_TSM_IT_20190215T100832_L1.tif\n",
      "S3A_TSM_IT_20190315T094218_L1.tif\n",
      "S3A_TSM_IT_20190322T100102_L1.tif\n",
      "S3A_TSM_IT_20201124T100835_L1.tif\n",
      "S3A_TSM_IT_20210110T094956_L1.tif\n",
      "S3A_TSM_IT_20210417T093504_L1.tif\n",
      "S3A_TSM_IT_20210606T093850_L1.tif\n",
      "S3A_TSM_IT_20210625T094620_L1.tif\n",
      "S3A_TSM_IT_20210817T101226_L1.tif\n",
      "S3A_TSM_IT_20210818T094615_L1.tif\n",
      "S3A_TSM_IT_20210917T100842_L1.tif\n",
      "S3A_TSM_IT_20210922T093847_L1.tif\n",
      "S3A_TSM_IT_20211014T100844_L1.tif\n",
      "S3A_TSM_IT_20211211T100457_L1.tif\n",
      "S3A_TSM_IT_20220201T091625_L1.tif\n",
      "S3A_TSM_IT_20220203T100503_L1.tif\n",
      "S3A_TSM_IT_20220602T102000_L1.tif\n",
      "S3A_TSM_IT_20220603T095349_L1.tif\n",
      "S3A_TSM_IT_20220604T092738_L1.tif\n",
      "S3A_TSM_IT_20220607T095004_L1.tif\n",
      "S3A_TSM_IT_20220608T092353_L1.tif\n",
      "S3A_TSM_IT_20220610T101230_L1.tif\n",
      "S3A_TSM_IT_20220611T094619_L1.tif\n",
      "S3A_TSM_IT_20220612T092008_L1.tif\n",
      "S3A_TSM_IT_20220614T100845_L1.tif\n",
      "S3A_TSM_IT_20220615T094234_L1.tif\n",
      "S3A_TSM_IT_20220616T091624_L1.tif\n",
      "S3A_TSM_IT_20220618T100501_L1.tif\n",
      "S3A_TSM_IT_20220619T093850_L1.tif\n",
      "S3A_TSM_IT_20220620T091239_L1.tif\n",
      "S3A_TSM_IT_20220622T100117_L1.tif\n",
      "S3A_TSM_IT_20220623T093506_L1.tif\n",
      "S3A_TSM_IT_20220624T090855_L1.tif\n",
      "S3A_TSM_IT_20220626T095733_L1.tif\n",
      "S3A_TSM_IT_20220627T093122_L1.tif\n",
      "S3A_TSM_IT_20220629T101959_L1.tif\n",
      "S3A_TSM_IT_20220630T095348_L1.tif\n",
      "S3A_TSM_IT_20220701T092737_L1.tif\n",
      "S3A_TSM_IT_20220704T095003_L1.tif\n",
      "S3A_TSM_IT_20220705T092352_L1.tif\n",
      "S3A_TSM_IT_20220707T101229_L1.tif\n",
      "S3A_TSM_IT_20220708T094618_L1.tif\n",
      "S3A_TSM_IT_20220709T092007_L1.tif\n",
      "S3A_TSM_IT_20220711T100844_L1.tif\n",
      "S3A_TSM_IT_20220712T094233_L1.tif\n",
      "S3A_TSM_IT_20220713T091622_L1.tif\n",
      "S3A_TSM_IT_20220715T100459_L1.tif\n",
      "S3A_TSM_IT_20220716T093848_L1.tif\n",
      "S3A_TSM_IT_20220717T091237_L1.tif\n",
      "S3A_TSM_IT_20220719T100113_L1.tif\n",
      "S3B_TSM_IT_20200707T095909_L1.tif\n",
      "S3B_TSM_IT_20210407T095523_L1.tif\n",
      "S3B_TSM_IT_20210422T100637_L1.tif\n",
      "S3B_TSM_IT_20210520T094029_L1.tif\n",
      "S3B_TSM_IT_20210817T093309_L1.tif\n",
      "S3B_TSM_IT_20210824T095151_L1.tif\n",
      "S3B_TSM_IT_20210917T092923_L1.tif\n",
      "S3B_TSM_IT_20211010T093303_L1.tif\n",
      "S3B_TSM_IT_20211014T092918_L1.tif\n",
      "S3B_TSM_IT_20211109T095531_L1.tif\n",
      "S3B_TSM_IT_20220601T100653_L1.tif\n",
      "S3B_TSM_IT_20220602T094042_L1.tif\n",
      "S3B_TSM_IT_20220603T091432_L1.tif\n",
      "S3B_TSM_IT_20220605T100309_L1.tif\n",
      "S3B_TSM_IT_20220606T093659_L1.tif\n",
      "S3B_TSM_IT_20220607T091048_L1.tif\n",
      "S3B_TSM_IT_20220609T095926_L1.tif\n",
      "S3B_TSM_IT_20220610T093315_L1.tif\n",
      "S3B_TSM_IT_20220612T102152_L1.tif\n",
      "S3B_TSM_IT_20220613T095542_L1.tif\n",
      "S3B_TSM_IT_20220614T092931_L1.tif\n",
      "S3B_TSM_IT_20220617T095157_L1.tif\n",
      "S3B_TSM_IT_20220618T092546_L1.tif\n",
      "S3B_TSM_IT_20220620T101424_L1.tif\n",
      "S3B_TSM_IT_20220621T094813_L1.tif\n",
      "S3B_TSM_IT_20220622T092202_L1.tif\n",
      "S3B_TSM_IT_20220624T101039_L1.tif\n",
      "S3B_TSM_IT_20220625T094428_L1.tif\n",
      "S3B_TSM_IT_20220626T091817_L1.tif\n",
      "S3B_TSM_IT_20220628T100654_L1.tif\n",
      "S3B_TSM_IT_20220629T094043_L1.tif\n",
      "S3B_TSM_IT_20220630T091433_L1.tif\n",
      "S3B_TSM_IT_20220702T100311_L1.tif\n",
      "S3B_TSM_IT_20220703T093700_L1.tif\n",
      "S3B_TSM_IT_20220704T091049_L1.tif\n",
      "S3B_TSM_IT_20220706T095927_L1.tif\n",
      "S3B_TSM_IT_20220707T093316_L1.tif\n",
      "S3B_TSM_IT_20220709T102154_L1.tif\n",
      "S3B_TSM_IT_20220711T092933_L1.tif\n",
      "S3B_TSM_IT_20220714T095200_L1.tif\n",
      "S3B_TSM_IT_20220715T092549_L1.tif\n",
      "S3B_TSM_IT_20220717T101427_L1.tif\n",
      "S3B_TSM_IT_20220718T094816_L1.tif\n",
      "S3B_TSM_IT_20220719T092205_L1.tif\n",
      "./in/data/wqp\\S3\\wqp_no_mask\\tsm\\cropped\\lakesStats_S3_wqp_no_mask_tsm.csv\n"
     ]
    }
   ],
   "source": [
    "# Take into account that some of the files have already been analyzed\n",
    "stats = os.path.join(out_path,f'lakesStats_{sensor.value}_{products.value}_{typology.value}.csv')\n",
    "data = []\n",
    "for root, dirs, files in os.walk(out_path):\n",
    "    if os.path.exists(stats):\n",
    "        df = pd.read_csv(stats)\n",
    "        stats_file_names = set(list(df['name']+'.tif'))\n",
    "        missing_stats = list(stats_file_names ^ s+et(os.listdir(out_path)))\n",
    "    else:\n",
    "        missing_stats = files\n",
    "    for file in missing_stats:\n",
    "        if (file.endswith('.tif')):\n",
    "            print(file)\n",
    "            f = os.path.join(root,file)\n",
    "            # Read file\n",
    "            src = wqp.wqp(f)\n",
    "            src.readWQP()\n",
    "            src.name\n",
    "\n",
    "            # Compute statistics for the basins polygons\n",
    "            src.computeStatistics(gdf_basins, 'Nome',\"count min mean max median std  percentile_25 percentile_50 percentile_75\", 0)\n",
    "\n",
    "            # Format output\n",
    "            data.append(wqp.wqp.exportWQPFormatEstimates(src))\n",
    "\n",
    "df = pd.concat(data)\n",
    "# Add values to csv file\n",
    "istsos.appendStatsFile(df, stats)"
   ]
  },
  {
   "cell_type": "code",
   "execution_count": 72,
   "metadata": {},
   "outputs": [
    {
     "data": {
      "text/html": [
       "<div>\n",
       "<style scoped>\n",
       "    .dataframe tbody tr th:only-of-type {\n",
       "        vertical-align: middle;\n",
       "    }\n",
       "\n",
       "    .dataframe tbody tr th {\n",
       "        vertical-align: top;\n",
       "    }\n",
       "\n",
       "    .dataframe thead th {\n",
       "        text-align: right;\n",
       "    }\n",
       "</style>\n",
       "<table border=\"1\" class=\"dataframe\">\n",
       "  <thead>\n",
       "    <tr style=\"text-align: right;\">\n",
       "      <th></th>\n",
       "      <th>name</th>\n",
       "      <th>path</th>\n",
       "      <th>sensor</th>\n",
       "      <th>typology</th>\n",
       "      <th>crs</th>\n",
       "      <th>date</th>\n",
       "      <th>min_CO_NORTH</th>\n",
       "      <th>max_CO_NORTH</th>\n",
       "      <th>mean_CO_NORTH</th>\n",
       "      <th>count_CO_NORTH</th>\n",
       "      <th>...</th>\n",
       "      <th>percentile_75_LU_WEST</th>\n",
       "      <th>min_MA_ALL</th>\n",
       "      <th>max_MA_ALL</th>\n",
       "      <th>mean_MA_ALL</th>\n",
       "      <th>count_MA_ALL</th>\n",
       "      <th>std_MA_ALL</th>\n",
       "      <th>median_MA_ALL</th>\n",
       "      <th>percentile_25_MA_ALL</th>\n",
       "      <th>percentile_50_MA_ALL</th>\n",
       "      <th>percentile_75_MA_ALL</th>\n",
       "    </tr>\n",
       "  </thead>\n",
       "  <tbody>\n",
       "    <tr>\n",
       "      <th>0</th>\n",
       "      <td>S3A_TSM_IT_20190215T100832_L1</td>\n",
       "      <td>./in/data/wqp\\S3\\wqp_no_mask\\tsm\\cropped\\S3A_T...</td>\n",
       "      <td>S3A</td>\n",
       "      <td>TSM</td>\n",
       "      <td>IT</td>\n",
       "      <td>2019-02-15 10:08:32</td>\n",
       "      <td>0.00585989</td>\n",
       "      <td>226.065</td>\n",
       "      <td>4.85409</td>\n",
       "      <td>686</td>\n",
       "      <td>...</td>\n",
       "      <td>0.974544</td>\n",
       "      <td>0.00569881</td>\n",
       "      <td>228.702</td>\n",
       "      <td>4.43418</td>\n",
       "      <td>2191</td>\n",
       "      <td>24.3502</td>\n",
       "      <td>0.742448</td>\n",
       "      <td>0.545363</td>\n",
       "      <td>0.742448</td>\n",
       "      <td>0.849582</td>\n",
       "    </tr>\n",
       "    <tr>\n",
       "      <th>0</th>\n",
       "      <td>S3A_TSM_IT_20190315T094218_L1</td>\n",
       "      <td>./in/data/wqp\\S3\\wqp_no_mask\\tsm\\cropped\\S3A_T...</td>\n",
       "      <td>S3A</td>\n",
       "      <td>TSM</td>\n",
       "      <td>IT</td>\n",
       "      <td>2019-03-15 09:42:18</td>\n",
       "      <td>0.00586798</td>\n",
       "      <td>273.469</td>\n",
       "      <td>11.5916</td>\n",
       "      <td>687</td>\n",
       "      <td>...</td>\n",
       "      <td>1.08982</td>\n",
       "      <td>0.00575296</td>\n",
       "      <td>251.203</td>\n",
       "      <td>6.78415</td>\n",
       "      <td>2220</td>\n",
       "      <td>35.1079</td>\n",
       "      <td>0.322699</td>\n",
       "      <td>0.0198906</td>\n",
       "      <td>0.322699</td>\n",
       "      <td>0.872301</td>\n",
       "    </tr>\n",
       "    <tr>\n",
       "      <th>0</th>\n",
       "      <td>S3A_TSM_IT_20190322T100102_L1</td>\n",
       "      <td>./in/data/wqp\\S3\\wqp_no_mask\\tsm\\cropped\\S3A_T...</td>\n",
       "      <td>S3A</td>\n",
       "      <td>TSM</td>\n",
       "      <td>IT</td>\n",
       "      <td>2019-03-22 10:01:02</td>\n",
       "      <td>0.00627061</td>\n",
       "      <td>228.181</td>\n",
       "      <td>7.16166</td>\n",
       "      <td>667</td>\n",
       "      <td>...</td>\n",
       "      <td>1.67015</td>\n",
       "      <td>0.00581443</td>\n",
       "      <td>233.851</td>\n",
       "      <td>6.31492</td>\n",
       "      <td>2171</td>\n",
       "      <td>29.9268</td>\n",
       "      <td>1.28983</td>\n",
       "      <td>1.08387</td>\n",
       "      <td>1.28983</td>\n",
       "      <td>1.72302</td>\n",
       "    </tr>\n",
       "    <tr>\n",
       "      <th>0</th>\n",
       "      <td>S3A_TSM_IT_20201124T100835_L1</td>\n",
       "      <td>./in/data/wqp\\S3\\wqp_no_mask\\tsm\\cropped\\S3A_T...</td>\n",
       "      <td>S3A</td>\n",
       "      <td>TSM</td>\n",
       "      <td>IT</td>\n",
       "      <td>2020-11-24 10:08:35</td>\n",
       "      <td>0.0323497</td>\n",
       "      <td>222.628</td>\n",
       "      <td>4.9145</td>\n",
       "      <td>690</td>\n",
       "      <td>...</td>\n",
       "      <td>4.96141</td>\n",
       "      <td>0.0285659</td>\n",
       "      <td>216.347</td>\n",
       "      <td>3.36864</td>\n",
       "      <td>2184</td>\n",
       "      <td>15.4075</td>\n",
       "      <td>1.86413</td>\n",
       "      <td>1.35684</td>\n",
       "      <td>1.86413</td>\n",
       "      <td>2.38898</td>\n",
       "    </tr>\n",
       "    <tr>\n",
       "      <th>0</th>\n",
       "      <td>S3A_TSM_IT_20210110T094956_L1</td>\n",
       "      <td>./in/data/wqp\\S3\\wqp_no_mask\\tsm\\cropped\\S3A_T...</td>\n",
       "      <td>S3A</td>\n",
       "      <td>TSM</td>\n",
       "      <td>IT</td>\n",
       "      <td>2021-01-10 09:49:56</td>\n",
       "      <td>0.00513515</td>\n",
       "      <td>243.12</td>\n",
       "      <td>7.20272</td>\n",
       "      <td>671</td>\n",
       "      <td>...</td>\n",
       "      <td>0.222264</td>\n",
       "      <td>0.00528183</td>\n",
       "      <td>236.99</td>\n",
       "      <td>5.80118</td>\n",
       "      <td>2161</td>\n",
       "      <td>31.9355</td>\n",
       "      <td>0.108023</td>\n",
       "      <td>0.0288815</td>\n",
       "      <td>0.108023</td>\n",
       "      <td>0.244338</td>\n",
       "    </tr>\n",
       "  </tbody>\n",
       "</table>\n",
       "<p>5 rows × 60 columns</p>\n",
       "</div>"
      ],
      "text/plain": [
       "                            name  \\\n",
       "0  S3A_TSM_IT_20190215T100832_L1   \n",
       "0  S3A_TSM_IT_20190315T094218_L1   \n",
       "0  S3A_TSM_IT_20190322T100102_L1   \n",
       "0  S3A_TSM_IT_20201124T100835_L1   \n",
       "0  S3A_TSM_IT_20210110T094956_L1   \n",
       "\n",
       "                                                path sensor typology crs  \\\n",
       "0  ./in/data/wqp\\S3\\wqp_no_mask\\tsm\\cropped\\S3A_T...    S3A      TSM  IT   \n",
       "0  ./in/data/wqp\\S3\\wqp_no_mask\\tsm\\cropped\\S3A_T...    S3A      TSM  IT   \n",
       "0  ./in/data/wqp\\S3\\wqp_no_mask\\tsm\\cropped\\S3A_T...    S3A      TSM  IT   \n",
       "0  ./in/data/wqp\\S3\\wqp_no_mask\\tsm\\cropped\\S3A_T...    S3A      TSM  IT   \n",
       "0  ./in/data/wqp\\S3\\wqp_no_mask\\tsm\\cropped\\S3A_T...    S3A      TSM  IT   \n",
       "\n",
       "                 date min_CO_NORTH max_CO_NORTH mean_CO_NORTH  count_CO_NORTH  \\\n",
       "0 2019-02-15 10:08:32   0.00585989      226.065       4.85409             686   \n",
       "0 2019-03-15 09:42:18   0.00586798      273.469       11.5916             687   \n",
       "0 2019-03-22 10:01:02   0.00627061      228.181       7.16166             667   \n",
       "0 2020-11-24 10:08:35    0.0323497      222.628        4.9145             690   \n",
       "0 2021-01-10 09:49:56   0.00513515       243.12       7.20272             671   \n",
       "\n",
       "   ... percentile_75_LU_WEST  min_MA_ALL max_MA_ALL mean_MA_ALL count_MA_ALL  \\\n",
       "0  ...              0.974544  0.00569881    228.702     4.43418         2191   \n",
       "0  ...               1.08982  0.00575296    251.203     6.78415         2220   \n",
       "0  ...               1.67015  0.00581443    233.851     6.31492         2171   \n",
       "0  ...               4.96141   0.0285659    216.347     3.36864         2184   \n",
       "0  ...              0.222264  0.00528183     236.99     5.80118         2161   \n",
       "\n",
       "  std_MA_ALL median_MA_ALL percentile_25_MA_ALL  percentile_50_MA_ALL  \\\n",
       "0    24.3502      0.742448             0.545363              0.742448   \n",
       "0    35.1079      0.322699            0.0198906              0.322699   \n",
       "0    29.9268       1.28983              1.08387               1.28983   \n",
       "0    15.4075       1.86413              1.35684               1.86413   \n",
       "0    31.9355      0.108023            0.0288815              0.108023   \n",
       "\n",
       "  percentile_75_MA_ALL  \n",
       "0             0.849582  \n",
       "0             0.872301  \n",
       "0              1.72302  \n",
       "0              2.38898  \n",
       "0             0.244338  \n",
       "\n",
       "[5 rows x 60 columns]"
      ]
     },
     "execution_count": 72,
     "metadata": {},
     "output_type": "execute_result"
    }
   ],
   "source": [
    "df.head()"
   ]
  },
  {
   "cell_type": "markdown",
   "metadata": {},
   "source": [
    "### istSOS JSON format"
   ]
  },
  {
   "cell_type": "markdown",
   "metadata": {},
   "source": [
    "In case of S3, it is needed to import both reference data files for the computed statistics"
   ]
  },
  {
   "cell_type": "code",
   "execution_count": null,
   "metadata": {
    "scrolled": true
   },
   "outputs": [],
   "source": [
    "# Load the statistics files\n",
    "file_name = f'lakesStats_{sensor.value}.csv'\n",
    "df = pd.read_csv(os.path.join(cwd['out'],sensor.value,file_name),delimiter=\";\")\n",
    "df.date = pd.to_datetime(df.date)"
   ]
  },
  {
   "cell_type": "code",
   "execution_count": null,
   "metadata": {},
   "outputs": [],
   "source": [
    "df = df.dropna()\n",
    "df = df.sort_values(by=['date'])\n",
    "df = df.round(2)\n",
    "df.shape"
   ]
  },
  {
   "cell_type": "code",
   "execution_count": null,
   "metadata": {},
   "outputs": [],
   "source": [
    "df.dropna(inplace=True)\n",
    "df.shape"
   ]
  },
  {
   "cell_type": "code",
   "execution_count": null,
   "metadata": {},
   "outputs": [],
   "source": [
    "df.head()"
   ]
  },
  {
   "cell_type": "code",
   "execution_count": null,
   "metadata": {},
   "outputs": [],
   "source": [
    "c.__dict__"
   ]
  },
  {
   "cell_type": "code",
   "execution_count": null,
   "metadata": {
    "scrolled": false
   },
   "outputs": [],
   "source": [
    "a = istsos.updateDataRequest(df=df,\n",
    "                    dataSample=data, \n",
    "                    WQP_DEFINITIONS=istsos.istSOSClient.WQP_DEFINITIONS,\n",
    "                    WQP_PROCEDURES=istsos.istSOSClient.WQP_PROCEDURES,\n",
    "                    PROCEDURE=procedure.value)"
   ]
  },
  {
   "cell_type": "code",
   "execution_count": null,
   "metadata": {},
   "outputs": [],
   "source": [
    "a"
   ]
  },
  {
   "cell_type": "code",
   "execution_count": null,
   "metadata": {
    "scrolled": true
   },
   "outputs": [],
   "source": [
    "# # Get Observation\n",
    "# SERVICE_NAME = 'demo'\n",
    "# OFFERING_NAME = 'temporary'\n",
    "# PROCEDURE_NAME = 'SATELLITE_CHL_TURB_CO_EAST'\n",
    "# DEFINITION_URNs = 'urn:ogc:def:parameter:x-istsos:1.0:water:Chl'\n",
    "# BEGIN_TIME = \"2020-01-01T00:01:00+01\"\n",
    "# END_TIME = \"2020-01-17T00:01:00+01\"\n",
    "\n",
    "# url_base = \"https://istsos.ddns.net/istsos/\"\n",
    "# url_test =f\"{url_base}/wa/istsos/services/{SERVICE_NAME}/operations/getobservation/offerings/{OFFERING_NAME}/procedures/{PROCEDURE_NAME}/observedproperties/{DEFINITION_URNs}/eventtime/{BEGIN_TIME}/{END_TIME}\"\n",
    "# resp = requests.get(url_test, headers=c.requestHeaders)\n",
    "# resp.text\n"
   ]
  },
  {
   "cell_type": "code",
   "execution_count": null,
   "metadata": {},
   "outputs": [],
   "source": []
  },
  {
   "cell_type": "code",
   "execution_count": null,
   "metadata": {},
   "outputs": [],
   "source": [
    "# WQP_PROCEDURES = ['CHL','TURB','WT']\n",
    "# a = procedure.value.split('_')\n",
    "# wqps = list(set(a).intersection(WQP_PROCEDURES))\n"
   ]
  },
  {
   "cell_type": "code",
   "execution_count": null,
   "metadata": {},
   "outputs": [],
   "source": [
    "\n",
    "# # INSERT OBSERVATION PARAMETERS\n",
    "\n",
    "# ########## PARAMETERS TO BE EDITED ####################\n",
    "# LAKE = 'CO' # {CO: COMO, LU: LUGANO, MA: MAGGIORE}\n",
    "# WQP_INPUT = ['LSWT'] #['LSWT','CHL','TSM']\n",
    "# #######################################################\n",
    "\n",
    "# DATE_START = pytz.utc.localize(df.date.min()).isoformat().replace('+00:00','Z')\n",
    "# DATE_END = pytz.utc.localize(df.date.max()).isoformat().replace('+00:00','Z')\n",
    "\n",
    "\n",
    "# if LAKE == 'CO':\n",
    "#     BASINS_LIST = ['CO_NORTH','CO_EAST','CO_WEST']\n",
    "# elif LAKE == 'LU':\n",
    "#     BASINS_LIST = ['LU_EAST','LU_WEST']\n",
    "# elif LAKE == 'MA':\n",
    "#     BASINS_LIST = ['MA_ALL']\n",
    "    \n",
    "# # Observed properties\n",
    "# OP_COMPOSITE_PHENOMENON_ID = 'comp_1' #random name?\n",
    "# OP_COMPOSITE_PHENOMENON_DIMENSION = '{}'.format(len(WQP_INPUT)+1) #int number of input observed variables (not observations)\n",
    "# OP_COMPONENT = [\"urn:ogc:def:parameter:x-istsos:1.0:time:iso8601\"]\n",
    "# for wqp in WQP_INPUT: #Observed parameters names: {'lswt':'water-temperature';'chl'}\n",
    "#     if 'LSWT' in wqp:\n",
    "#         OP_COMPONENT.append(\"urn:ogc:def:parameter:x-istsos:1.0:water-temperature\")\n",
    "#     elif 'CHL' in wqp:\n",
    "#         OP_COMPONENT.append(\"urn:ogc:def:parameter:x-istsos:1.0:water:Chl\")\n",
    "#     elif 'TSM' in wqp:\n",
    "#         OP_COMPONENT.append(\"urn:ogc:def:parameter:x-istsos:1.0:water:Turb\")\n",
    "\n",
    "# #Results\n",
    "# RES_DA_ELEMENT_COUNT = OP_COMPOSITE_PHENOMENON_DIMENSION # Does this parameter have the same magnitude as the composite dimension?\n",
    "# RES_DA_FIELDS = [\n",
    "#     {\n",
    "#         \"name\": \"Time\",\n",
    "#         \"definition\": \"urn:ogc:def:parameter:x-istsos:1.0:time:iso8601\"\n",
    "#     },\n",
    "# ]\n",
    "# for wqp in WQP_INPUT: #Observed parameters names: {'lswt':'water-temperature';'chl'}\n",
    "#     if 'LSWT' == wqp:\n",
    "#         RES_DA_FIELDS.append(\n",
    "#             {\n",
    "#                 \"name\": \"water-temperature\",\n",
    "#                 \"definition\":\"urn:ogc:def:parameter:x-istsos:1.0:water-temperature\",\n",
    "#                 \"uom\":\"\\u00b0C\"\n",
    "#             }\n",
    "#         )\n",
    "#     elif 'CHL' == wqp:\n",
    "#         RES_DA_FIELDS.append(\n",
    "#             {\n",
    "#                 \"name\": \"water-Chl\",\n",
    "#                 \"definition\":\"urn:ogc:def:parameter:x-istsos:1.0:water:Chl\",\n",
    "#                 \"uom\":\"mg/m^3\"\n",
    "#             }\n",
    "#         )\n",
    "#     elif 'TSM' == wqp:\n",
    "#         RES_DA_FIELDS.append(\n",
    "#             {\n",
    "#                 \"name\": \"water-Turb\",\n",
    "#                 \"definition\":\"urn:ogc:def:parameter:x-istsos:1.0:water:Turb\",\n",
    "#                 \"uom\":\"g/m^3\"\n",
    "#             }\n",
    "#         )\n",
    "\n",
    "# # Create insertObsevartion model for istSOS depending on the procedure.\n",
    "# for PROCEDURE in PROCEDURES_LIST:\n",
    "#     obs = {\n",
    "#         \"AssignedSensorId\":f\"{ASSIGNED_SENSOR_ID[PROCEDURE]}\",\n",
    "#         \"ForceInsert\":\"false\",\n",
    "#         \"Observation\":{\n",
    "#             \"name\":f\"{PROCEDURE}\",\n",
    "#             \"samplingTime\":{\n",
    "#             \"beginPosition\":f\"{DATE_START}\",\n",
    "#             \"endPosition\":f\"{DATE_END}\"\n",
    "#             },\n",
    "#             \"procedure\":f\"urn:ogc:def:procedure:x-istsos:1.0:{PROCEDURE}\",\n",
    "#             \"observedProperty\": {\n",
    "#                 \"CompositePhenomenon\":{\n",
    "#                     \"id\":f\"{OP_COMPOSITE_PHENOMENON_ID}\", \n",
    "#                     \"dimension\":f\"{OP_COMPOSITE_PHENOMENON_DIMENSION}\", \n",
    "#                     \"name\":\"timeSeriesOfObservations\"\n",
    "#                 },\n",
    "#                 \"component\": OP_COMPONENT\n",
    "#             },\n",
    "#             \"featureOfInterest\":{ # Is it necessary to assign the value to a geometry? \n",
    "#                 \"name\":f\"urn:ogc:def:feature:x-istsos:1.0:Point:{PROCEDURE}\",\n",
    "#                 \"geom\":f\"{istsos.getGMLfeature(os.path.join(cwd['out'],'procedures_istSOS'), PROCEDURE+\"_point\")}\" \n",
    "#             },\n",
    "#             \"result\": {\n",
    "#                 \"DataArray\": {\n",
    "#                     \"elementCount\":f\"{RES_DA_ELEMENT_COUNT}\",\n",
    "#                     \"field\": RES_DA_FIELDS,\n",
    "#                     \"values\": istsos.resultsWQPvalues(df,'_'.join(PROCEDURE.split('_')[-2:])),#BASIN\n",
    "#                 }\n",
    "#             }\n",
    "#         }\n",
    "#     }\n",
    "#     print('_'.join(PROCEDURE.split('_')[-2:]))\n",
    "#     with open(os.path.join(cwd['out'],f\"{PROCEDURE}.json\"), \"w\", encoding=\"UTF-8\") as outfile:\n",
    "#         json.dump(obs, outfile, ensure_ascii=False, indent=4)"
   ]
  },
  {
   "cell_type": "markdown",
   "metadata": {},
   "source": [
    "### Data Ingestion to istSOS"
   ]
  },
  {
   "cell_type": "code",
   "execution_count": null,
   "metadata": {},
   "outputs": [],
   "source": [
    "obs = {\n",
    "    \"AssignedSensorId\":f\"{assigned_sensor_id[procedure.value]}\",\n",
    "    \"ForceInsert\":\"true\",\n",
    "    \"Observation\": a\n",
    "}"
   ]
  },
  {
   "cell_type": "code",
   "execution_count": null,
   "metadata": {},
   "outputs": [],
   "source": [
    "print(os.path.join(cwd['out'],f\"{procedure.value}.json\"))"
   ]
  },
  {
   "cell_type": "code",
   "execution_count": null,
   "metadata": {},
   "outputs": [],
   "source": [
    "with open(os.path.join(cwd['out'],f\"{procedure.value}.json\"), \"w\", encoding=\"UTF-8\") as outfile:\n",
    "    json.dump(obs, outfile, ensure_ascii=False, indent=4)"
   ]
  },
  {
   "cell_type": "code",
   "execution_count": null,
   "metadata": {},
   "outputs": [],
   "source": [
    "c.updateBearerToken()\n",
    "c.requestHeaders"
   ]
  },
  {
   "cell_type": "code",
   "execution_count": null,
   "metadata": {
    "scrolled": false
   },
   "outputs": [],
   "source": [
    "file_name_json = 'SATELLITE_CHL_TURB_CO_WEST.json'\n",
    "filepath = os.path.join(cwd['out'], sensor.value,file_name_json)\n",
    "f = open(filepath)\n",
    "\n",
    "data = json.load(f)\n",
    "d=json.dumps(obs)\n",
    "\n",
    "#Insert Observation into istSOS test\n",
    "url = 'https://istsos.ddns.net/istsos/wa/istsos/services/demo/operations/insertobservation'\n",
    "response = requests.post(url,data=d,headers=c.requestHeaders)\n",
    "print(response.status_code)\n",
    "print(response.text)"
   ]
  },
  {
   "cell_type": "code",
   "execution_count": null,
   "metadata": {},
   "outputs": [],
   "source": [
    "data"
   ]
  },
  {
   "cell_type": "code",
   "execution_count": null,
   "metadata": {
    "scrolled": false
   },
   "outputs": [],
   "source": [
    "url_base = \"https://istsos.ddns.net/istsos/wa/istsos/services/demo\"\n",
    "# # Sample request. Retrieve al the available procedures in the platform\n",
    "# url_test = f\"{url_base}/procedures/operations/getlist\"\n",
    "url_test =f\"{url_base}/procedures/SATELLITE_WT_CO_NORTH\"\n",
    "# url_test =f\"{url_base}/procedures/SATELLITE_CHL_TURB_CO_NORTH\"\n",
    "resp = requests.get(url_test, data=payload, headers=headers_req)\n",
    "resp.text"
   ]
  },
  {
   "cell_type": "code",
   "execution_count": null,
   "metadata": {},
   "outputs": [],
   "source": [
    "data"
   ]
  },
  {
   "cell_type": "code",
   "execution_count": null,
   "metadata": {
    "scrolled": true
   },
   "outputs": [],
   "source": [
    "file_name_json = 'SATELLITE_CHL_TURB_CO_NORTH_2.json'\n",
    "filepath = os.path.join(cwd['out'], sensor.value,file_name_json)\n",
    "f = open(filepath)\n",
    "data = json.load(f)\n",
    "d=json.dumps(data)\n",
    "d"
   ]
  },
  {
   "cell_type": "markdown",
   "metadata": {},
   "source": [
    "### Testing istSOS API  calls"
   ]
  },
  {
   "cell_type": "code",
   "execution_count": null,
   "metadata": {
    "scrolled": true
   },
   "outputs": [],
   "source": [
    "url_base = \"https://istsos.ddns.net/istsos/\"\n",
    "url_test =f\"{url_base}/wa/istsos/services/demo/procedures/operations/getlist\"\n",
    "resp = requests.get(url_test, data=payload, headers=headers_req)\n",
    "resp.text"
   ]
  },
  {
   "cell_type": "code",
   "execution_count": null,
   "metadata": {},
   "outputs": [],
   "source": [
    "url_base = \"https://istsos.ddns.net/istsos/\"\n",
    "url_test =f\"{url_base}/wa/istsos/services/demo/procedures/operations/geojson\"\n",
    "resp = requests.get(url_test, data=payload, headers=headers_req)\n",
    "resp.text"
   ]
  },
  {
   "cell_type": "code",
   "execution_count": null,
   "metadata": {},
   "outputs": [],
   "source": [
    "# Get Offerings\n",
    "url_base = \"https://istsos.ddns.net/istsos/\"\n",
    "url_test =f\"{url_base}/wa/istsos/services/demo/offerings/operations/getlist\"\n",
    "resp = requests.get(url_test, data=payload, headers=headers_req)\n",
    "resp.text"
   ]
  },
  {
   "cell_type": "code",
   "execution_count": null,
   "metadata": {
    "scrolled": true
   },
   "outputs": [],
   "source": [
    "# Get Observation\n",
    "SERVICE_NAME = 'demo'\n",
    "OFFERING_NAME = 'temporary'\n",
    "PROCEDURE_NAME = 'SATELLITE_CHL_TURB_CO_WEST'\n",
    "DEFINITION_URNs = 'urn:ogc:def:parameter:x-istsos:1.0:water:Chl&urn:ogc:def:parameter:x-istsos:1.0:water:Turb'\n",
    "BEGIN_TIME = \"2019-01-04T09:54:16Z\"\n",
    "END_TIME = \"2022-05-26T09:58:18Z\"\n",
    "\n",
    "url_base = \"https://istsos.ddns.net/istsos/\"\n",
    "url_test =f\"{url_base}/wa/istsos/services/{SERVICE_NAME}/operations/getobservation/offerings/{OFFERING_NAME}/procedures/{PROCEDURE_NAME}/observedproperties/{DEFINITION_URNs}/eventtime/{BEGIN_TIME}/{END_TIME}\"\n",
    "resp = requests.get(url_test, headers=c.requestHeaders)\n",
    "resp.text\n"
   ]
  },
  {
   "cell_type": "code",
   "execution_count": null,
   "metadata": {},
   "outputs": [],
   "source": []
  },
  {
   "cell_type": "code",
   "execution_count": null,
   "metadata": {
    "scrolled": true
   },
   "outputs": [],
   "source": [
    "# Get Observation\n",
    "SERVICE_NAME = 'demo'\n",
    "OFFERING_NAME = 'temporary'\n",
    "PROCEDURE_NAME = 'SATELLITE_CHL_TURB_CO_WEST'\n",
    "DEFINITION_URNs = 'urn:ogc:def:parameter:x-istsos:1.0:water:Chl'\n",
    "BEGIN_TIME = \"2019-01-01T00:01:00+01\"\n",
    "END_TIME = \"2022-01-17T00:01:00+01\"\n",
    "\n",
    "url_base = \"https://istsos.ddns.net/istsos/\"\n",
    "url_test =f\"{url_base}/wa/istsos/services/{SERVICE_NAME}/operations/getobservation/offerings/{OFFERING_NAME}/procedures/{PROCEDURE_NAME}/observedproperties/:/eventtime/last\"\n",
    "resp = requests.get(url_test, headers=c.requestHeaders)\n",
    "resp.json()\n"
   ]
  },
  {
   "cell_type": "code",
   "execution_count": null,
   "metadata": {},
   "outputs": [],
   "source": [
    "data = resp.json()"
   ]
  },
  {
   "cell_type": "code",
   "execution_count": null,
   "metadata": {},
   "outputs": [],
   "source": [
    "data['data']"
   ]
  },
  {
   "cell_type": "code",
   "execution_count": null,
   "metadata": {},
   "outputs": [],
   "source": []
  }
 ],
 "metadata": {
  "kernelspec": {
   "display_name": "Python 3",
   "language": "python",
   "name": "python3"
  },
  "language_info": {
   "codemirror_mode": {
    "name": "ipython",
    "version": 3
   },
   "file_extension": ".py",
   "mimetype": "text/x-python",
   "name": "python",
   "nbconvert_exporter": "python",
   "pygments_lexer": "ipython3",
   "version": "3.6.12"
  }
 },
 "nbformat": 4,
 "nbformat_minor": 4
}
