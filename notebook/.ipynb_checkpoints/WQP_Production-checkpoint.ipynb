{
 "cells": [
  {
   "cell_type": "markdown",
   "metadata": {},
   "source": [
    "# Water Quality Parameters Maps (CHL, TSM) - Production"
   ]
  },
  {
   "cell_type": "code",
   "execution_count": 1,
   "metadata": {},
   "outputs": [],
   "source": [
    "# Styling notebook\n",
    "\n",
    "# System\n",
    "import os\n",
    "import sys\n",
    "\n",
    "# Import scripts libraries for the project\n",
    "sys.path.append('./src/python')\n",
    "\n",
    "# Import the function to update the notebook style\n",
    "from nbConfig import (css_styling)\n",
    "\n",
    "css_styling()"
   ]
  },
  {
   "cell_type": "markdown",
   "metadata": {},
   "source": [
    "## 0. Import WQP maps production library"
   ]
  },
  {
   "cell_type": "code",
   "execution_count": 2,
   "metadata": {},
   "outputs": [],
   "source": [
    "import pandas as pd\n",
    "import wqpSNAPparams as wqpParams\n",
    "import wqpSNAPFunctions as wqpSNAP"
   ]
  },
  {
   "cell_type": "code",
   "execution_count": 3,
   "metadata": {},
   "outputs": [],
   "source": [
    "in_path = './in/data/satellite_imagery/S3'\n",
    "out_path = './in/data/wqp/S3'\n",
    "cwd_path = wqpSNAP.inputParameters(in_path,out_path)"
   ]
  },
  {
   "cell_type": "markdown",
   "metadata": {},
   "source": [
    "## 1. Define processing parameters"
   ]
  },
  {
   "cell_type": "code",
   "execution_count": 4,
   "metadata": {},
   "outputs": [],
   "source": [
    "#Read the mean temperature file\n",
    "df_t = pd.read_csv(os.path.join(cwd_path['in_parameters'],'mean_temp.txt'),sep=\",\")\n",
    "df_t_keys = list(df_t.keys())"
   ]
  },
  {
   "cell_type": "code",
   "execution_count": 5,
   "metadata": {},
   "outputs": [],
   "source": [
    "# Temptative bounding box for the areea of interest\n",
    "bbox = {\n",
    "    'minLat' : 45.3,\n",
    "    'maxLat' : 46.65,\n",
    "    'minLon' : 7.9,\n",
    "    'maxLon' : 9.95,\n",
    "}"
   ]
  },
  {
   "cell_type": "code",
   "execution_count": 6,
   "metadata": {},
   "outputs": [],
   "source": [
    "# Format output bands\n",
    "writeFormat = 'GeoTIFF'"
   ]
  },
  {
   "cell_type": "markdown",
   "metadata": {},
   "source": [
    "## 2. WQP maps production"
   ]
  },
  {
   "cell_type": "code",
   "execution_count": 7,
   "metadata": {
    "scrolled": true
   },
   "outputs": [
    {
     "name": "stdout",
     "output_type": "stream",
     "text": [
      "S3A_OL_1_EFR____20220201T091325_20220201T091625_20220202T131715_0179_081_264_2160_LN1_O_NT_002\n",
      "Date: 2022/02/01 09:10 \n",
      "Temperature: 9.9°C\n",
      "S3A_OL_1_EFR____20220203T100203_20220203T100503_20220204T151656_0179_081_293_2160_LN1_O_NT_002\n",
      "Date: 2022/02/03 10:00 \n",
      "Temperature: 12.8°C\n"
     ]
    }
   ],
   "source": [
    "for root, dirs, files in os.walk(cwd_path['in']):\n",
    "    for f in files:\n",
    "        if f.endswith('.xml'):\n",
    "            # 1. Read the product\n",
    "            s3_image = wqpSNAP.snapProduct(os.path.join(root,f),bbox)\n",
    "            s3_image.readSNAPProduct()\n",
    "            s3_image.name = s3_image.path.split('\\\\')[-2].split('.')[0]\n",
    "            print(s3_image.name)\n",
    "            # 2. Update the bounding box for the subset selection\n",
    "            params_subset = s3_image.updateSNAPSubset(wqpParams.params_subset)\n",
    "            subset_product = wqpSNAP.executeSNAPFunction(s3_image.product, params_subset)\n",
    "            # 3. Reproject the subset\n",
    "            reproject_product = wqpSNAP.executeSNAPFunction(subset_product, wqpParams.params_reproject)\n",
    "            # 4. Update the C2RCC temperature value. C2RCC wqp products\n",
    "            params_C2RCC = s3_image.updateSNAPTemperature(df_t, wqpParams.params_C2RCC)\n",
    "            c2rcc_product = wqpSNAP.executeSNAPFunction(reproject_product, params_C2RCC)\n",
    "            # 5. Import vector layer\n",
    "            importVector_product = wqpSNAP.executeSNAPFunction(c2rcc_product, wqpParams.params_importVector)\n",
    "            # 6. Band Maths operations\n",
    "            bandMaths_product_C2RCC = wqpSNAP.executeSNAPFunction(importVector_product, wqpParams.params_bandMaths)\n",
    "            bandMaths_product_oa = wqpSNAP.executeSNAPFunction(reproject_product, wqpParams.params_bandMaths_oa)\n",
    "            bandMaths_product_rrs = wqpSNAP.executeSNAPFunction(importVector_product, wqpParams.params_bandMaths_rrs)  \n",
    "            bandMaths_product_masks = wqpSNAP.executeSNAPFunction(importVector_product, wqpParams.params_bandMaths_masks)\n",
    "            # 7. Extract bands\n",
    "            # Product bands to be extracted\n",
    "            bandExtract_product_chl = wqpSNAP.executeSNAPFunction(bandMaths_product_C2RCC, wqpParams.params_bandExtractor_chl)\n",
    "            bandExtract_product_tsm = wqpSNAP.executeSNAPFunction(bandMaths_product_C2RCC, wqpParams.params_bandExtractor_tsm)\n",
    "            bandExtract_product_chl_no_clip = wqpSNAP.executeSNAPFunction(bandMaths_product_C2RCC, wqpParams.params_bandExtractor_chl_no_clip)\n",
    "            bandExtract_product_tsm_no_clip = wqpSNAP.executeSNAPFunction(bandMaths_product_C2RCC, wqpParams.params_bandExtractor_tsm_no_clip)\n",
    "            bandExtract_product_chl_no_mask = wqpSNAP.executeSNAPFunction(bandMaths_product_C2RCC, wqpParams.params_bandExtractor_chl_no_masks)\n",
    "            bandExtract_product_tsm_no_mask = wqpSNAP.executeSNAPFunction(bandMaths_product_C2RCC, wqpParams.params_bandExtractor_tsm_no_masks)\n",
    "            bandExtract_product_chl_cloud_mask = wqpSNAP.executeSNAPFunction(bandMaths_product_C2RCC, wqpParams.params_bandExtractor_chl_cloud_mask)\n",
    "            bandExtract_product_tsm_cloud_mask = wqpSNAP.executeSNAPFunction(bandMaths_product_C2RCC, wqpParams.params_bandExtractor_tsm_cloud_mask)\n",
    "            bandExtract_product_oa = wqpSNAP.executeSNAPFunction(bandMaths_product_oa, wqpParams.params_bandExtractor_oa)\n",
    "            bandExtract_product_rrs = wqpSNAP.executeSNAPFunction(bandMaths_product_rrs, wqpParams.params_bandExtractor_rrs)\n",
    "            bandExtract_product_masks = wqpSNAP.executeSNAPFunction(bandMaths_product_masks, wqpParams.params_bandExtractor_masks)\n",
    "            # 8. Save bands\n",
    "            # Define output paths\n",
    "            sensor = s3_image.name.split('_')[0]\n",
    "            sensor_date = s3_image.name.split('_')[8]\n",
    "            out_path_chl = os.path.join(cwd_path['out_wqp']+'\\\\chl\\\\'+sensor+'_CHL_IT_'+sensor_date+'_L1')\n",
    "            out_path_tsm = os.path.join(cwd_path['out_wqp']+'\\\\tsm\\\\'+sensor+'_TSM_IT_'+sensor_date+'_L1')\n",
    "            out_path_chl_no_clip = os.path.join(cwd_path['out_wqp_no_clip']+'\\\\chl\\\\'+sensor+'_CHL_IT_'+sensor_date+'_L1')\n",
    "            out_path_tsm_no_clip = os.path.join(cwd_path['out_wqp_no_clip']+'\\\\tsm\\\\'+sensor+'_TSM_IT_'+sensor_date+'_L1')\n",
    "            out_path_chl_no_mask = os.path.join(cwd_path['out_wqp_no_mask']+'\\\\chl\\\\'+sensor+'_CHL_IT_'+sensor_date+'_L1')\n",
    "            out_path_tsm_no_mask = os.path.join(cwd_path['out_wqp_no_mask']+'\\\\tsm\\\\'+sensor+'_TSM_IT_'+sensor_date+'_L1')\n",
    "            out_path_chl_cloud_mask = os.path.join(cwd_path['out_wqp_cloud']+'\\\\chl\\\\'+sensor+'_CHL_IT_'+sensor_date+'_L1')\n",
    "            out_path_tsm_cloud_mask = os.path.join(cwd_path['out_wqp_cloud']+'\\\\tsm\\\\'+sensor+'_TSM_IT_'+sensor_date+'_L1')\n",
    "            out_path_mask = os.path.join(cwd_path['out_masks']+'\\\\'+sensor+'_IT_'+sensor_date+'_L1')\n",
    "            out_path_oa = os.path.join(cwd_path['out_oa']+'\\\\'+sensor+'_IT_'+sensor_date+'_L1')\n",
    "            out_path_rrs = os.path.join(cwd_path['out_rrs']+'\\\\'+sensor+'_IT_'+sensor_date+'_L1')\n",
    "            # Save Bands\n",
    "            wqpSNAP.exportProductBands(bandExtract_product_chl, out_path_chl, writeFormat)\n",
    "            wqpSNAP.exportProductBands(bandExtract_product_tsm, out_path_tsm, writeFormat)\n",
    "            wqpSNAP.exportProductBands(bandExtract_product_chl_no_clip, out_path_chl_no_clip, writeFormat)\n",
    "            wqpSNAP.exportProductBands(bandExtract_product_tsm_no_clip, out_path_tsm_no_clip, writeFormat)\n",
    "            wqpSNAP.exportProductBands(bandExtract_product_chl_no_mask, out_path_chl_no_mask, writeFormat)\n",
    "            wqpSNAP.exportProductBands(bandExtract_product_tsm_no_mask, out_path_tsm_no_mask, writeFormat)\n",
    "            wqpSNAP.exportProductBands(bandExtract_product_chl_cloud_mask, out_path_chl_cloud_mask, writeFormat)\n",
    "            wqpSNAP.exportProductBands(bandExtract_product_tsm_cloud_mask, out_path_tsm_cloud_mask, writeFormat)\n",
    "            wqpSNAP.exportProductBands(bandExtract_product_masks, out_path_mask, writeFormat)\n",
    "            wqpSNAP.exportProductBands(bandExtract_product_oa, out_path_oa, writeFormat)\n",
    "            wqpSNAP.exportProductBands(bandExtract_product_rrs, out_path_rrs, writeFormat)\n",
    "\n",
    "            # Clean environment\n",
    "            del s3_image\n",
    "            subset_product.dispose() \n",
    "            reproject_product.dispose()\n",
    "            c2rcc_product.dispose()\n",
    "            importVector_product.dispose()\n",
    "            bandExtract_product_chl.dispose()\n",
    "            bandExtract_product_tsm.dispose()\n",
    "            bandExtract_product_chl_no_mask.dispose()\n",
    "            bandExtract_product_tsm_no_mask.dispose()\n",
    "            bandExtract_product_chl_cloud_mask.dispose()\n",
    "            bandExtract_product_tsm_cloud_mask.dispose()\n",
    "            bandExtract_product_rrs.dispose()\n",
    "            bandExtract_product_oa.dispose()\n",
    "            bandExtract_product_masks.dispose()"
   ]
  }
 ],
 "metadata": {
  "kernelspec": {
   "display_name": "Python 3",
   "language": "python",
   "name": "python3"
  },
  "language_info": {
   "codemirror_mode": {
    "name": "ipython",
    "version": 3
   },
   "file_extension": ".py",
   "mimetype": "text/x-python",
   "name": "python",
   "nbconvert_exporter": "python",
   "pygments_lexer": "ipython3",
   "version": "3.6.12"
  }
 },
 "nbformat": 4,
 "nbformat_minor": 4
}
