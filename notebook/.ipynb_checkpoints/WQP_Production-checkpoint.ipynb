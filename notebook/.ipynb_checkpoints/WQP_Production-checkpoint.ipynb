{
 "cells": [
  {
   "cell_type": "markdown",
   "metadata": {},
   "source": [
    "# Water Quality Parameters Maps - Production"
   ]
  },
  {
   "cell_type": "code",
   "execution_count": 1,
   "metadata": {},
   "outputs": [
    {
     "data": {
      "text/html": [
       "<style>\n",
       "/* Config settings*/\n",
       "@import url(https://fonts.googleapis.com/css?family=Open+Sans);\n",
       "body{\n",
       "   font-family: 'Open Sans';\n",
       "}\n",
       "\n",
       "/* Styling the Jupyter Notebook GUI*/\n",
       "#ipython_notebook::before{\n",
       "    content:\"\"\n",
       "   }\n",
       "\n",
       "/* #ipython_notebook img{\n",
       "display:none;\n",
       "} */\n",
       "\n",
       "/*Styling the elements in the Jupyter Notebook*/\n",
       "h1 {\n",
       "    color: white;\n",
       "    border: 1.5px solid rgb(46, 96, 177);\n",
       "    padding: 8px 12px;\n",
       "    background: rgba(37, 107, 182, 0.5);\n",
       "    position: static;\n",
       "}\n",
       "\n",
       "h2 {\n",
       "    color: white;\n",
       "    border: 1.5px solid rgb(46, 170, 177);\n",
       "    padding: 8px 12px;\n",
       "    background: rgba(46, 170, 177, 0.5);\n",
       "    position: static;\n",
       "}\n",
       "\n",
       "h3 {\n",
       "    color: white;\n",
       "    border: 1.5px solid rgb(192, 119, 255);\n",
       "    padding: 8px 12px;\n",
       "    background: rgba(170, 74, 255, 0.5);\n",
       "    position: static;\n",
       "}\n",
       "\n",
       ".note {\n",
       "    background-color: rgba(0, 255, 162, 0.503);\n",
       "}\n",
       "\n",
       ".warning {\n",
       "    background-color: rgba(246, 255, 0, 0.503);\n",
       "}\n",
       "\n",
       ".important {\n",
       "    background-color: rgba(255, 187, 0, 0.503);\n",
       "}\n",
       "\n",
       "\n",
       "</style>"
      ],
      "text/plain": [
       "<IPython.core.display.HTML object>"
      ]
     },
     "execution_count": 1,
     "metadata": {},
     "output_type": "execute_result"
    }
   ],
   "source": [
    "# Styling notebook\n",
    "\n",
    "# System\n",
    "import os\n",
    "import sys\n",
    "\n",
    "# Import scripts libraries for the project\n",
    "sys.path.append('./src/python')\n",
    "\n",
    "# Import the function to update the notebook style\n",
    "from nbConfig import (css_styling)\n",
    "\n",
    "css_styling()"
   ]
  },
  {
   "cell_type": "markdown",
   "metadata": {},
   "source": [
    "## 0. Import WQP maps production library"
   ]
  },
  {
   "cell_type": "code",
   "execution_count": 2,
   "metadata": {},
   "outputs": [],
   "source": [
    "import pandas as pd\n",
    "import ipywidgets as wg\n",
    "import wqpSNAPparams_S3 as wqpParams_S3\n",
    "import wqpSNAPparams_L8 as wqpParams_L8\n",
    "import wqpSNAPFunctions as wqpSNAP"
   ]
  },
  {
   "cell_type": "code",
   "execution_count": 3,
   "metadata": {},
   "outputs": [
    {
     "data": {
      "application/vnd.jupyter.widget-view+json": {
       "model_id": "23d59c6c2881405f8550af924b33e905",
       "version_major": 2,
       "version_minor": 0
      },
      "text/plain": [
       "Select(description='Select the sensor:', layout=Layout(height='100px', width='50%'), options=('S3', 'L8'), sty…"
      ]
     },
     "metadata": {},
     "output_type": "display_data"
    }
   ],
   "source": [
    "SENSOR_LIST = ['S3','L8']\n",
    "sensor = wg.Select(\n",
    "    options = SENSOR_LIST,\n",
    "    value = SENSOR_LIST[0],\n",
    "    description = 'Select the sensor:',\n",
    "    disabled = False,\n",
    "    style = {\n",
    "        'description_width': 'auto'\n",
    "    },\n",
    "    layout = wg.Layout(width='50%', height='100px'),\n",
    ")\n",
    "sensor"
   ]
  },
  {
   "cell_type": "code",
   "execution_count": 12,
   "metadata": {},
   "outputs": [],
   "source": [
    "in_path = f'./in/data/satellite_imagery/{sensor.value}'\n",
    "out_path = f'./in/data/wqp/{sensor.value}'\n",
    "cwd_path = wqpSNAP.inputParameters(in_path,out_path)"
   ]
  },
  {
   "cell_type": "markdown",
   "metadata": {},
   "source": [
    "## 1. Define processing parameters"
   ]
  },
  {
   "cell_type": "code",
   "execution_count": 5,
   "metadata": {},
   "outputs": [],
   "source": [
    "#Read the mean temperature file\n",
    "df_t = pd.read_csv(os.path.join(cwd_path['in_parameters'],'mean_temp.csv'))\n",
    "df_t_keys = list(df_t.keys())"
   ]
  },
  {
   "cell_type": "code",
   "execution_count": 6,
   "metadata": {},
   "outputs": [
    {
     "data": {
      "text/html": [
       "<div>\n",
       "<style scoped>\n",
       "    .dataframe tbody tr th:only-of-type {\n",
       "        vertical-align: middle;\n",
       "    }\n",
       "\n",
       "    .dataframe tbody tr th {\n",
       "        vertical-align: top;\n",
       "    }\n",
       "\n",
       "    .dataframe thead th {\n",
       "        text-align: right;\n",
       "    }\n",
       "</style>\n",
       "<table border=\"1\" class=\"dataframe\">\n",
       "  <thead>\n",
       "    <tr style=\"text-align: right;\">\n",
       "      <th></th>\n",
       "      <th>Id Sensore</th>\n",
       "      <th>Data-Ora</th>\n",
       "      <th>Medio</th>\n",
       "    </tr>\n",
       "  </thead>\n",
       "  <tbody>\n",
       "    <tr>\n",
       "      <th>0</th>\n",
       "      <td>14606</td>\n",
       "      <td>2019/01/01 00:00</td>\n",
       "      <td>5.5</td>\n",
       "    </tr>\n",
       "    <tr>\n",
       "      <th>1</th>\n",
       "      <td>14606</td>\n",
       "      <td>2019/01/01 00:10</td>\n",
       "      <td>5.5</td>\n",
       "    </tr>\n",
       "    <tr>\n",
       "      <th>2</th>\n",
       "      <td>14606</td>\n",
       "      <td>2019/01/01 00:20</td>\n",
       "      <td>5.4</td>\n",
       "    </tr>\n",
       "    <tr>\n",
       "      <th>3</th>\n",
       "      <td>14606</td>\n",
       "      <td>2019/01/01 00:30</td>\n",
       "      <td>5.3</td>\n",
       "    </tr>\n",
       "    <tr>\n",
       "      <th>4</th>\n",
       "      <td>14606</td>\n",
       "      <td>2019/01/01 00:40</td>\n",
       "      <td>5.3</td>\n",
       "    </tr>\n",
       "  </tbody>\n",
       "</table>\n",
       "</div>"
      ],
      "text/plain": [
       "   Id Sensore          Data-Ora   Medio\n",
       "0       14606  2019/01/01 00:00     5.5\n",
       "1       14606  2019/01/01 00:10     5.5\n",
       "2       14606  2019/01/01 00:20     5.4\n",
       "3       14606  2019/01/01 00:30     5.3\n",
       "4       14606  2019/01/01 00:40     5.3"
      ]
     },
     "execution_count": 6,
     "metadata": {},
     "output_type": "execute_result"
    }
   ],
   "source": [
    "df_t.head()"
   ]
  },
  {
   "cell_type": "code",
   "execution_count": 15,
   "metadata": {},
   "outputs": [],
   "source": [
    "# Read the atmospheric correction parameters file\n",
    "df_atm = pd.read_csv(os.path.join(cwd_path['in_parameters'],'atm_corr.csv'))\n",
    "df_atm_keys = list(df_t.keys())"
   ]
  },
  {
   "cell_type": "code",
   "execution_count": 16,
   "metadata": {},
   "outputs": [],
   "source": [
    "df_atm['DateTime'] = pd.to_datetime(df_atm['DateTime'], format='%d/%m/%Y %H:%M')\n",
    "df_atm['DateTime'] = df_atm['DateTime'].dt.date"
   ]
  },
  {
   "cell_type": "code",
   "execution_count": 17,
   "metadata": {
    "scrolled": false
   },
   "outputs": [
    {
     "data": {
      "text/html": [
       "<div>\n",
       "<style scoped>\n",
       "    .dataframe tbody tr th:only-of-type {\n",
       "        vertical-align: middle;\n",
       "    }\n",
       "\n",
       "    .dataframe tbody tr th {\n",
       "        vertical-align: top;\n",
       "    }\n",
       "\n",
       "    .dataframe thead th {\n",
       "        text-align: right;\n",
       "    }\n",
       "</style>\n",
       "<table border=\"1\" class=\"dataframe\">\n",
       "  <thead>\n",
       "    <tr style=\"text-align: right;\">\n",
       "      <th></th>\n",
       "      <th>DateTime</th>\n",
       "      <th>Year</th>\n",
       "      <th>Month</th>\n",
       "      <th>Day</th>\n",
       "      <th>GMT Hour</th>\n",
       "      <th>Minute</th>\n",
       "      <th>t</th>\n",
       "      <th>Lu</th>\n",
       "      <th>Ld</th>\n",
       "    </tr>\n",
       "  </thead>\n",
       "  <tbody>\n",
       "    <tr>\n",
       "      <th>0</th>\n",
       "      <td>2019-01-01</td>\n",
       "      <td>2019</td>\n",
       "      <td>1</td>\n",
       "      <td>1</td>\n",
       "      <td>10</td>\n",
       "      <td>10</td>\n",
       "      <td>0.93</td>\n",
       "      <td>0.47</td>\n",
       "      <td>0.80</td>\n",
       "    </tr>\n",
       "    <tr>\n",
       "      <th>1</th>\n",
       "      <td>2019-01-06</td>\n",
       "      <td>2019</td>\n",
       "      <td>1</td>\n",
       "      <td>6</td>\n",
       "      <td>10</td>\n",
       "      <td>10</td>\n",
       "      <td>0.93</td>\n",
       "      <td>0.46</td>\n",
       "      <td>0.79</td>\n",
       "    </tr>\n",
       "    <tr>\n",
       "      <th>2</th>\n",
       "      <td>2019-01-13</td>\n",
       "      <td>2019</td>\n",
       "      <td>1</td>\n",
       "      <td>13</td>\n",
       "      <td>10</td>\n",
       "      <td>10</td>\n",
       "      <td>0.91</td>\n",
       "      <td>0.56</td>\n",
       "      <td>0.96</td>\n",
       "    </tr>\n",
       "    <tr>\n",
       "      <th>3</th>\n",
       "      <td>2019-01-15</td>\n",
       "      <td>2019</td>\n",
       "      <td>1</td>\n",
       "      <td>15</td>\n",
       "      <td>10</td>\n",
       "      <td>10</td>\n",
       "      <td>0.95</td>\n",
       "      <td>0.32</td>\n",
       "      <td>0.55</td>\n",
       "    </tr>\n",
       "    <tr>\n",
       "      <th>4</th>\n",
       "      <td>2019-01-17</td>\n",
       "      <td>2019</td>\n",
       "      <td>1</td>\n",
       "      <td>17</td>\n",
       "      <td>10</td>\n",
       "      <td>10</td>\n",
       "      <td>0.87</td>\n",
       "      <td>0.80</td>\n",
       "      <td>1.34</td>\n",
       "    </tr>\n",
       "  </tbody>\n",
       "</table>\n",
       "</div>"
      ],
      "text/plain": [
       "     DateTime  Year  Month  Day  GMT Hour  Minute     t    Lu    Ld\n",
       "0  2019-01-01  2019      1    1        10      10  0.93  0.47  0.80\n",
       "1  2019-01-06  2019      1    6        10      10  0.93  0.46  0.79\n",
       "2  2019-01-13  2019      1   13        10      10  0.91  0.56  0.96\n",
       "3  2019-01-15  2019      1   15        10      10  0.95  0.32  0.55\n",
       "4  2019-01-17  2019      1   17        10      10  0.87  0.80  1.34"
      ]
     },
     "execution_count": 17,
     "metadata": {},
     "output_type": "execute_result"
    }
   ],
   "source": [
    "df_atm.head()"
   ]
  },
  {
   "cell_type": "code",
   "execution_count": 18,
   "metadata": {},
   "outputs": [],
   "source": [
    "# Temptative bounding box for the area of interest\n",
    "bbox = {\n",
    "    'minLat' : 45.3,\n",
    "    'maxLat' : 46.65,\n",
    "    'minLon' : 7.9,\n",
    "    'maxLon' : 9.95,\n",
    "}"
   ]
  },
  {
   "cell_type": "code",
   "execution_count": 19,
   "metadata": {},
   "outputs": [],
   "source": [
    "# Format output bands\n",
    "writeFormat = 'GeoTIFF'"
   ]
  },
  {
   "cell_type": "markdown",
   "metadata": {},
   "source": [
    "## 2. WQP maps production"
   ]
  },
  {
   "cell_type": "markdown",
   "metadata": {},
   "source": [
    "### S3 - Chlorophyll-a (CHL-a) and Total Suspended Matter (TSM)"
   ]
  },
  {
   "cell_type": "code",
   "execution_count": null,
   "metadata": {
    "scrolled": false
   },
   "outputs": [],
   "source": [
    "wqpParams = wqpParams_S3\n",
    "for root, dirs, files in os.walk(in_path):\n",
    "    for f in files:\n",
    "        if f.endswith('.xml'):\n",
    "            # 1. Read the product\n",
    "            s3_image = wqpSNAP.snapProduct(os.path.join(root,f),bbox)\n",
    "            s3_image.readSNAPProduct()\n",
    "            s3_image.name = s3_image.path.split('\\\\')[-2].split('.')[0]\n",
    "            print(s3_image.name)\n",
    "            try:\n",
    "                # 2. Update the bounding box for the subset selection\n",
    "                params_subset = s3_image.updateSNAPSubset(wqpParams.params_subset)\n",
    "                subset_product = wqpSNAP.executeSNAPFunction(s3_image.product, params_subset)\n",
    "                # 3. Reproject the subset\n",
    "                reproject_product = wqpSNAP.executeSNAPFunction(subset_product, wqpParams.params_reproject)\n",
    "                # 4. Update the C2RCC temperature value. C2RCC wqp products\n",
    "                params_C2RCC = s3_image.updateSNAPTemperature(df_t, wqpParams.params_C2RCC)\n",
    "                c2rcc_product = wqpSNAP.executeSNAPFunction(reproject_product, params_C2RCC)\n",
    "                # 5. Import vector layer\n",
    "                importVector_product = wqpSNAP.executeSNAPFunction(c2rcc_product, wqpParams.params_importVector)\n",
    "                # 6. Band Maths operations\n",
    "                bandMaths_product_C2RCC = wqpSNAP.executeSNAPFunction(importVector_product, wqpParams.params_bandMaths)\n",
    "                bandMaths_product_oa = wqpSNAP.executeSNAPFunction(reproject_product, wqpParams.params_bandMaths_oa)\n",
    "                bandMaths_product_rrs = wqpSNAP.executeSNAPFunction(importVector_product, wqpParams.params_bandMaths_rrs)  \n",
    "                bandMaths_product_masks = wqpSNAP.executeSNAPFunction(importVector_product, wqpParams.params_bandMaths_masks)\n",
    "                # 7. Extract bands\n",
    "                # Product bands to be extracted\n",
    "                bandExtract_product_chl = wqpSNAP.executeSNAPFunction(bandMaths_product_C2RCC, wqpParams.params_bandExtractor_chl)\n",
    "                bandExtract_product_tsm = wqpSNAP.executeSNAPFunction(bandMaths_product_C2RCC, wqpParams.params_bandExtractor_tsm)\n",
    "                bandExtract_product_chl_no_clip = wqpSNAP.executeSNAPFunction(bandMaths_product_C2RCC, wqpParams.params_bandExtractor_chl_no_clip)\n",
    "                bandExtract_product_tsm_no_clip = wqpSNAP.executeSNAPFunction(bandMaths_product_C2RCC, wqpParams.params_bandExtractor_tsm_no_clip)\n",
    "                bandExtract_product_chl_no_mask = wqpSNAP.executeSNAPFunction(bandMaths_product_C2RCC, wqpParams.params_bandExtractor_chl_no_masks)\n",
    "                bandExtract_product_tsm_no_mask = wqpSNAP.executeSNAPFunction(bandMaths_product_C2RCC, wqpParams.params_bandExtractor_tsm_no_masks)\n",
    "                bandExtract_product_chl_cloud_mask = wqpSNAP.executeSNAPFunction(bandMaths_product_C2RCC, wqpParams.params_bandExtractor_chl_cloud_mask)\n",
    "                bandExtract_product_tsm_cloud_mask = wqpSNAP.executeSNAPFunction(bandMaths_product_C2RCC, wqpParams.params_bandExtractor_tsm_cloud_mask)\n",
    "                bandExtract_product_oa = wqpSNAP.executeSNAPFunction(bandMaths_product_oa, wqpParams.params_bandExtractor_oa)\n",
    "                bandExtract_product_rrs = wqpSNAP.executeSNAPFunction(bandMaths_product_rrs, wqpParams.params_bandExtractor_rrs)\n",
    "                bandExtract_product_masks = wqpSNAP.executeSNAPFunction(bandMaths_product_masks, wqpParams.params_bandExtractor_masks)\n",
    "                # 8. Save bands\n",
    "                # Define output paths\n",
    "                sensor = s3_image.name.split('_')[0]\n",
    "                sensor_date = s3_image.name.split('_')[8]\n",
    "                out_path_chl = os.path.join(cwd_path['out_wqp']+'\\\\chl\\\\'+sensor+'_CHL_IT_'+sensor_date+'_L1')\n",
    "                out_path_tsm = os.path.join(cwd_path['out_wqp']+'\\\\tsm\\\\'+sensor+'_TSM_IT_'+sensor_date+'_L1')\n",
    "                out_path_chl_no_clip = os.path.join(cwd_path['out_wqp_no_clip']+'\\\\chl\\\\'+sensor+'_CHL_IT_'+sensor_date+'_L1')\n",
    "                out_path_tsm_no_clip = os.path.join(cwd_path['out_wqp_no_clip']+'\\\\tsm\\\\'+sensor+'_TSM_IT_'+sensor_date+'_L1')\n",
    "                out_path_chl_no_mask = os.path.join(cwd_path['out_wqp_no_mask']+'\\\\chl\\\\'+sensor+'_CHL_IT_'+sensor_date+'_L1')\n",
    "                out_path_tsm_no_mask = os.path.join(cwd_path['out_wqp_no_mask']+'\\\\tsm\\\\'+sensor+'_TSM_IT_'+sensor_date+'_L1')\n",
    "                out_path_chl_cloud_mask = os.path.join(cwd_path['out_wqp_cloud']+'\\\\chl\\\\'+sensor+'_CHL_IT_'+sensor_date+'_L1')\n",
    "                out_path_tsm_cloud_mask = os.path.join(cwd_path['out_wqp_cloud']+'\\\\tsm\\\\'+sensor+'_TSM_IT_'+sensor_date+'_L1')\n",
    "                out_path_mask = os.path.join(cwd_path['out_masks']+'\\\\'+sensor+'_IT_'+sensor_date+'_L1')\n",
    "                out_path_oa = os.path.join(cwd_path['out_oa']+'\\\\'+sensor+'_IT_'+sensor_date+'_L1')\n",
    "                out_path_rrs = os.path.join(cwd_path['out_rrs']+'\\\\'+sensor+'_IT_'+sensor_date+'_L1')\n",
    "                # Save Bands\n",
    "                wqpSNAP.exportProductBands(bandExtract_product_chl, out_path_chl, writeFormat)\n",
    "                wqpSNAP.exportProductBands(bandExtract_product_tsm, out_path_tsm, writeFormat)\n",
    "                wqpSNAP.exportProductBands(bandExtract_product_chl_no_clip, out_path_chl_no_clip, writeFormat)\n",
    "                wqpSNAP.exportProductBands(bandExtract_product_tsm_no_clip, out_path_tsm_no_clip, writeFormat)\n",
    "                wqpSNAP.exportProductBands(bandExtract_product_chl_no_mask, out_path_chl_no_mask, writeFormat)\n",
    "                wqpSNAP.exportProductBands(bandExtract_product_tsm_no_mask, out_path_tsm_no_mask, writeFormat)\n",
    "                wqpSNAP.exportProductBands(bandExtract_product_chl_cloud_mask, out_path_chl_cloud_mask, writeFormat)\n",
    "                wqpSNAP.exportProductBands(bandExtract_product_tsm_cloud_mask, out_path_tsm_cloud_mask, writeFormat)\n",
    "                wqpSNAP.exportProductBands(bandExtract_product_masks, out_path_mask, writeFormat)\n",
    "                wqpSNAP.exportProductBands(bandExtract_product_oa, out_path_oa, writeFormat)\n",
    "                wqpSNAP.exportProductBands(bandExtract_product_rrs, out_path_rrs, writeFormat)\n",
    "\n",
    "                # Clean environment\n",
    "                subset_product.dispose() \n",
    "                reproject_product.dispose()\n",
    "                c2rcc_product.dispose()\n",
    "                importVector_product.dispose()\n",
    "                bandExtract_product_chl.dispose()\n",
    "                bandExtract_product_tsm.dispose()\n",
    "                bandExtract_product_chl_no_mask.dispose()\n",
    "                bandExtract_product_tsm_no_mask.dispose()\n",
    "                bandExtract_product_chl_cloud_mask.dispose()\n",
    "                bandExtract_product_tsm_cloud_mask.dispose()\n",
    "                bandExtract_product_rrs.dispose()\n",
    "                bandExtract_product_oa.dispose()\n",
    "                bandExtract_product_masks.dispose()\n",
    "                del s3_image\n",
    "                del subset_product\n",
    "                del reproject_product\n",
    "                del c2rcc_product\n",
    "                del importVector_product\n",
    "                del bandExtract_product_chl\n",
    "                del bandExtract_product_tsm\n",
    "                del bandExtract_product_chl_no_mask\n",
    "                del bandExtract_product_tsm_no_mask\n",
    "\n",
    "                del bandExtract_product_chl_cloud_mask\n",
    "                del bandExtract_product_tsm_cloud_mask\n",
    "                del bandExtract_product_rrs\n",
    "                del bandExtract_product_oa\n",
    "                del bandExtract_product_masks\n",
    "            except:\n",
    "                # Open a file with access mode 'a'\n",
    "                file_object = open(os.path.join('./in/data/satellite_imagery',f'error_images{sensor.value}.txt'), 'a')\n",
    "                # Append 'hello' at the end of file\n",
    "                file_object.write(s3_image.name)\n",
    "                file_object.write(\"\\n\")\n",
    "                # Close the file\n",
    "                file_object.close()"
   ]
  },
  {
   "cell_type": "markdown",
   "metadata": {},
   "source": [
    "### L8 - Land Surface Water Temperature (LSWT)"
   ]
  },
  {
   "cell_type": "code",
   "execution_count": 20,
   "metadata": {
    "scrolled": true
   },
   "outputs": [
    {
     "name": "stdout",
     "output_type": "stream",
     "text": [
      "LC08_L1TP_193028_20220616_20220629_02_T1_MTL.txt\n",
      "       DateTime  Year  Month  Day  GMT Hour  Minute     t    Lu    Ld\n",
      "242  2022-06-16  2022      6   16        10      10  0.62  3.16  4.94\n",
      "./in/data/wqp/L8\\masks\\L8_LSWT_IT_20220616_L1\n",
      "LC08_L1TP_193028_20220702_20220708_02_T1_MTL.txt\n",
      "       DateTime  Year  Month  Day  GMT Hour  Minute     t    Lu    Ld\n",
      "245  2022-07-02  2022      7    2        10      10  0.68  2.64  4.22\n",
      "./in/data/wqp/L8\\masks\\L8_LSWT_IT_20220702_L1\n",
      "LC08_L1TP_193028_20220718_20220719_02_RT_MTL.txt\n",
      "       DateTime  Year  Month  Day  GMT Hour  Minute     t    Lu    Ld\n",
      "248  2022-07-18  2022      7   18        10      10  0.69  2.59  4.15\n",
      "./in/data/wqp/L8\\masks\\L8_LSWT_IT_20220718_L1\n",
      "LC08_L1TP_194028_20220607_20220610_02_T1_MTL.txt\n",
      "       DateTime  Year  Month  Day  GMT Hour  Minute    t    Lu    Ld\n",
      "241  2022-06-07  2022      6    7        10      10  0.7  2.29  3.68\n",
      "./in/data/wqp/L8\\masks\\L8_LSWT_IT_20220607_L1\n",
      "LC08_L1TP_194028_20220623_20220705_02_T1_MTL.txt\n",
      "       DateTime  Year  Month  Day  GMT Hour  Minute     t    Lu    Ld\n",
      "243  2022-06-23  2022      6   23        10      10  0.68  2.61  4.15\n",
      "./in/data/wqp/L8\\masks\\L8_LSWT_IT_20220623_L1\n",
      "LC08_L1TP_194028_20220709_20220721_02_T1_MTL.txt\n",
      "       DateTime  Year  Month  Day  GMT Hour  Minute     t    Lu    Ld\n",
      "246  2022-07-09  2022      7    9        10      10  0.81  1.51  2.53\n",
      "./in/data/wqp/L8\\masks\\L8_LSWT_IT_20220709_L1\n",
      "LC08_L1TP_195028_20220630_20220708_02_T1_MTL.txt\n",
      "       DateTime  Year  Month  Day  GMT Hour  Minute     t    Lu    Ld\n",
      "244  2022-06-30  2022      6   30        10      10  0.66  2.72  4.32\n",
      "./in/data/wqp/L8\\masks\\L8_LSWT_IT_20220630_L1\n",
      "LC08_L1TP_195028_20220716_20220719_02_RT_MTL.txt\n",
      "       DateTime  Year  Month  Day  GMT Hour  Minute     t    Lu    Ld\n",
      "247  2022-07-16  2022      7   16        10      10  0.71  2.46  3.95\n",
      "./in/data/wqp/L8\\masks\\L8_LSWT_IT_20220716_L1\n"
     ]
    }
   ],
   "source": [
    "wqpParams = wqpParams_L8\n",
    "for root, dirs, files in os.walk(in_path):\n",
    "    for f in files:\n",
    "        if f.endswith('MTL.txt'):\n",
    "            print(f)\n",
    "            # 1. Read the product\n",
    "            l8_image = wqpSNAP.snapProduct(os.path.join(root,f),bbox)\n",
    "            l8_image.readSNAPProduct()\n",
    "            l8_image.name = l8_image.path.split('\\\\')[-2].split('.')[0]\n",
    "            params_bandMaths = l8_image.updateSNAPAtmCorr(df_atm,wqpParams.params_bandMaths)\n",
    "            try:\n",
    "                # 2. Update the bounding box for the subset selection\n",
    "                params_subset = l8_image.updateSNAPSubset(wqpParams.params_subset)\n",
    "                subset_product = wqpSNAP.executeSNAPFunction(l8_image.product, params_subset)\n",
    "                # 3. Reproject the subset\n",
    "    #                 reproject_product = wqpSNAP.executeSNAPFunction(subset_product, wqpParams.params_reproject) \n",
    "                # 4. Resample\n",
    "                resample_product = wqpSNAP.executeSNAPFunction(subset_product, wqpParams.params_resample)\n",
    "                # 5. Import-Vector\n",
    "                importVector_product = wqpSNAP.executeSNAPFunction(resample_product, wqpParams.params_importVector)\n",
    "                # 6. BandMaths\n",
    "                bandMaths_product = wqpSNAP.executeSNAPFunction(importVector_product, params_bandMaths)\n",
    "                bandMaths_product_masks = wqpSNAP.executeSNAPFunction(importVector_product, wqpParams.params_bandMaths_masks)\n",
    "                # 7. BandExtract\n",
    "                bandExtract_product_lswt = wqpSNAP.executeSNAPFunction(bandMaths_product, wqpParams.params_bandExtractor_lswt)\n",
    "                bandExtract_product_lswt_mid_high = wqpSNAP.executeSNAPFunction(bandMaths_product, wqpParams.params_bandExtractor_lswt_mid_high)\n",
    "                bandExtract_product_lswt_high = wqpSNAP.executeSNAPFunction(bandMaths_product, wqpParams.params_bandExtractor_lswt_high)\n",
    "                bandExtract_product_masks = wqpSNAP.executeSNAPFunction(bandMaths_product_masks, wqpParams.params_bandExtractor_masks)\n",
    "                # 8. Export bands\n",
    "                # Output paths\n",
    "                sensor_date = l8_image.name.split('_')[3]\n",
    "                out_path_lswt = os.path.join(out_path,'wqp','lswt',sensor.value+'_LSWT_IT_'+sensor_date+'_L1')\n",
    "                out_path_lswt_mid_high = os.path.join(out_path,'wqp_mid_high_clouds','lswt',sensor.value+'_LSWT_IT_'+sensor_date+'_L1')\n",
    "                out_path_lswt_high = os.path.join(out_path,'wqp_high_clouds','lswt',sensor.value+'_LSWT_IT_'+sensor_date+'_L1')\n",
    "                out_path_mask = os.path.join(out_path,'masks',sensor.value+'_LSWT_IT_'+sensor_date+'_L1')\n",
    "                print(out_path_mask)\n",
    "                #Save Bands\n",
    "                wqpSNAP.exportProductBands(bandExtract_product_lswt, out_path_lswt, writeFormat)\n",
    "                wqpSNAP.exportProductBands(bandExtract_product_lswt_mid_high, out_path_lswt_mid_high, writeFormat)\n",
    "                wqpSNAP.exportProductBands(bandExtract_product_lswt_high, out_path_lswt_high, writeFormat)\n",
    "                wqpSNAP.exportProductBands(bandExtract_product_masks, out_path_mask, writeFormat)\n",
    "            except:\n",
    "                # Open a file with access mode 'a'\n",
    "                file_object = open(os.path.join('./in/data/satellite_imagery',f'error_images_{sensor.value}.txt'), 'a')\n",
    "                # Append 'hello' at the end of file\n",
    "                file_object.write(l8_image.name)\n",
    "                file_object.write(\"\\n\")\n",
    "                # Close the file\n",
    "                file_object.close()"
   ]
  },
  {
   "cell_type": "code",
   "execution_count": null,
   "metadata": {
    "scrolled": true
   },
   "outputs": [],
   "source": [
    "# List bands and masks available for the opened product\n",
    "# list(l8_image.product.getBandNames())\n",
    "# list(l8_image.product.getMaskGroup().getNodeNames())"
   ]
  },
  {
   "cell_type": "code",
   "execution_count": null,
   "metadata": {},
   "outputs": [],
   "source": [
    "a = wqpSNAP.extractAtmCorr(l8_image.name, df_atm)"
   ]
  },
  {
   "cell_type": "code",
   "execution_count": null,
   "metadata": {},
   "outputs": [],
   "source": []
  }
 ],
 "metadata": {
  "kernelspec": {
   "display_name": "Python 3",
   "language": "python",
   "name": "python3"
  },
  "language_info": {
   "codemirror_mode": {
    "name": "ipython",
    "version": 3
   },
   "file_extension": ".py",
   "mimetype": "text/x-python",
   "name": "python",
   "nbconvert_exporter": "python",
   "pygments_lexer": "ipython3",
   "version": "3.6.12"
  }
 },
 "nbformat": 4,
 "nbformat_minor": 4
}
