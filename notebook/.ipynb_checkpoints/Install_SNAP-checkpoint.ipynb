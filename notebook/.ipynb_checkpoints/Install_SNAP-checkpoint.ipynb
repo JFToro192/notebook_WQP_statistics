{
 "cells": [
  {
   "cell_type": "code",
   "execution_count": null,
   "metadata": {
    "id": "OuAbazTN91qc"
   },
   "outputs": [],
   "source": [
    "%%capture\n",
    "!pip install rasterio"
   ]
  },
  {
   "cell_type": "code",
   "execution_count": null,
   "metadata": {
    "id": "loZUOfjmJ9z1"
   },
   "outputs": [],
   "source": [
    "import gdown\n",
    "import os\n",
    "import json\n",
    "import xml.etree.ElementTree as ET\n",
    "from datetime import datetime\n",
    "import rasterio\n",
    "from matplotlib import pyplot"
   ]
  },
  {
   "cell_type": "markdown",
   "metadata": {
    "id": "CtaJ1XZeX38N"
   },
   "source": [
    "## Python Installation"
   ]
  },
  {
   "cell_type": "code",
   "execution_count": null,
   "metadata": {
    "id": "io1y-Q0ORDZf"
   },
   "outputs": [],
   "source": [
    "%%capture\n",
    "!apt-get install -y build-essential checkinstall\n",
    "!apt-get install -y libreadline-gplv2-dev libncursesw5-dev libssl-dev libsqlite3-dev tk-dev libgdbm-dev libc6-dev libbz2-dev\n",
    "%cd /tmp\n",
    "!wget https://www.python.org/ftp/python/3.6.9/Python-3.6.9.tgz\n",
    "!tar xzf Python-3.6.9.tgz\n",
    "!Python-3.6.9/configure --enable-optimizations\n",
    "!sudo make altinstall\n",
    "%cd /content"
   ]
  },
  {
   "cell_type": "code",
   "execution_count": null,
   "metadata": {
    "colab": {
     "base_uri": "https://localhost:8080/"
    },
    "id": "ZafeBnxaP8Wp",
    "outputId": "84ade904-bd71-4d58-f72e-48c3efa48fad"
   },
   "outputs": [
    {
     "name": "stdout",
     "output_type": "stream",
     "text": [
      "/usr/local/bin/python3.6\n"
     ]
    }
   ],
   "source": [
    "!which python3.6"
   ]
  },
  {
   "cell_type": "markdown",
   "metadata": {
    "id": "TFl0AFOVaLYR"
   },
   "source": [
    "## SNAP Installation"
   ]
  },
  {
   "cell_type": "code",
   "execution_count": null,
   "metadata": {
    "id": "yHn-94QzOuEL"
   },
   "outputs": [],
   "source": [
    "%%capture\n",
    "!apt install -y openjdk-11-jre\n",
    "!wget  https://download.esa.int/step/snap/8.0/installers/esa-snap_all_unix_8_0.sh\n",
    "!sudo chmod +x esa-snap_all_unix_8_0.sh"
   ]
  },
  {
   "cell_type": "markdown",
   "metadata": {
    "id": "z9ydaDxwYMOk"
   },
   "source": [
    "options to change from the default ones:\n",
    "- toolbox: 3,4 \n",
    "- configure pyhton later\n"
   ]
  },
  {
   "cell_type": "code",
   "execution_count": null,
   "metadata": {
    "colab": {
     "base_uri": "https://localhost:8080/"
    },
    "id": "KdKdXvDOO4BQ",
    "outputId": "3184f33f-3433-4f7e-f80f-c96c28989ea7"
   },
   "outputs": [
    {
     "name": "stdout",
     "output_type": "stream",
     "text": [
      "Unpacking JRE ...\n",
      "Starting Installer ...\n",
      "\u001b[?7hThis will install ESA SNAP on your computer.\n",
      "OK [o, Enter], Cancel [c]\n",
      "\n",
      "Click Next to continue, or Cancel to exit Setup.\n",
      "Delete SNAP's configuration data and user settings?\n",
      "The installer detected SNAP user data directories from a previous\n",
      "installation. These directories contain system file used by the application\n",
      "and also stored graphs, RGB profiles or other auxiliary data. The data\n",
      "stored in these directories might not be compatible with this new SNAP\n",
      "version anymore.\n",
      "\n",
      "Shall the installer try to remove these directories?\n",
      "Yes, try deleting all SNAP user data [1], Delete only SNAP-internal configuration data (recommended). [2, Enter]\n",
      "\n",
      "Select the folder where you would like ESA SNAP to be installed, then click\n",
      "Next.\n",
      "Where should ESA SNAP be installed?\n",
      "[/opt/snap]\n",
      "\n",
      "Which components should be installed?\n",
      "X: SNAP [*1]\n",
      "2: Sentinel-1 Toolbox [*2]\n",
      "3: Sentinel-2 Toolbox [*3]\n",
      "4: Sentinel-3 Toolbox [*4]\n",
      "5: Radarsat Toolbox [*5]\n",
      "6: SMOS-Box [*6]\n",
      "7: PROBA-V Toolbox [*7]\n",
      "(To show the description of a component, please enter one of *1, *2, *3, *4, *5, *6, *7)\n",
      "Please enter a comma-separated list of the selected values or [Enter] for the default selection:\n",
      "[2,3,4,5,6,7]\n",
      "3,4\n",
      "Create symlinks?\n",
      "Yes [y, Enter], No [n]\n",
      "\n",
      "Select the folder where you would like ESA SNAP to create symlinks, then click Next.\n",
      "[/usr/local/bin]\n",
      "\n",
      "Which is your preferred Python version?\n",
      "\n",
      "If you are a Python developer, you can use the SNAP Java API from Python or\n",
      "you can even develop SNAP processor plugins using Python. Here you can\n",
      "specify your preferred Python version by the given Python executable to be\n",
      "used. Only Python versions 2.7, 3.3 and 3.4 are supported.\n",
      "Configure SNAP for use with Python?\n",
      "Yes [y], No [n, Enter]\n",
      "\n",
      "You may type which python in a terminal window to find the path to your\n",
      "preferred Python version.\n",
      "After successful configuration you will find the SNAP Python module snappy\n",
      "in the directory /root/.snap/snap-python. The Python interpreter and the\n",
      "location of the snappy module can be changed any time using the\n",
      "bin/snappy-conf tool.\n",
      "Extracting files ...\n",
      "                                                                           Setup has finished installing ESA SNAP on your computer.\n",
      "\n",
      "Run SNAP Desktop?\n",
      "Yes [y, Enter], No [n]\n",
      "\n",
      "\n",
      "Please also consider visiting the STEP website. STEP is the Science Toolbox\n",
      "Exploitation Platform which provides news, documentation, tutorials, and a\n",
      "vibrant user forum for ESA's free open source Earth Observation toolboxes.\n",
      "Finishing installation ...\n"
     ]
    }
   ],
   "source": [
    "!./esa-snap_all_unix_8_0.sh"
   ]
  },
  {
   "cell_type": "code",
   "execution_count": null,
   "metadata": {
    "colab": {
     "base_uri": "https://localhost:8080/"
    },
    "id": "cxz2qhjFZueB",
    "outputId": "264b57eb-41f6-4668-e1f2-6a29faf03296"
   },
   "outputs": [
    {
     "name": "stdout",
     "output_type": "stream",
     "text": [
      "/opt/snap/bin/../platform/lib/nbexec: WARNING: environment variable DISPLAY is not set\n"
     ]
    }
   ],
   "source": [
    "!/opt/snap/bin/snappy-conf /usr/local/bin/python3.6"
   ]
  },
  {
   "cell_type": "code",
   "execution_count": null,
   "metadata": {
    "id": "0HLKTwukskek"
   },
   "outputs": [],
   "source": [
    "!/opt/snap/bin/gpt -h"
   ]
  }
 ],
 "metadata": {
  "colab": {
   "collapsed_sections": [
    "RNZ3qYl_Co8n"
   ],
   "name": "Install_SNAP.ipynb",
   "provenance": []
  },
  "gpuClass": "standard",
  "kernelspec": {
   "display_name": "Python 3",
   "language": "python",
   "name": "python3"
  },
  "language_info": {
   "codemirror_mode": {
    "name": "ipython",
    "version": 3
   },
   "file_extension": ".py",
   "mimetype": "text/x-python",
   "name": "python",
   "nbconvert_exporter": "python",
   "pygments_lexer": "ipython3",
   "version": "3.6.12"
  }
 },
 "nbformat": 4,
 "nbformat_minor": 1
}
