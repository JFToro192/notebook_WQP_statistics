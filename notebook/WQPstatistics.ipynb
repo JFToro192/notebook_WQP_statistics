{
 "cells": [
  {
   "cell_type": "markdown",
   "metadata": {},
   "source": [
    "# Water Quality Parameters - Statistics"
   ]
  },
  {
   "cell_type": "code",
   "execution_count": 1,
   "metadata": {},
   "outputs": [
    {
     "data": {
      "text/html": [
       "<style>\n",
       "/* Config settings*/\n",
       "@import url(https://fonts.googleapis.com/css?family=Open+Sans);\n",
       "body{\n",
       "   font-family: 'Open Sans';\n",
       "}\n",
       "\n",
       "/* Styling the Jupyter Notebook GUI*/\n",
       "#ipython_notebook::before{\n",
       "    content:\"\"\n",
       "   }\n",
       "\n",
       "/* #ipython_notebook img{\n",
       "display:none;\n",
       "} */\n",
       "\n",
       "/*Styling the elements in the Jupyter Notebook*/\n",
       "h1 {\n",
       "    color: white;\n",
       "    border: 1.5px solid rgb(46, 96, 177);\n",
       "    padding: 8px 12px;\n",
       "    background: rgba(37, 107, 182, 0.5);\n",
       "    position: static;\n",
       "}\n",
       "\n",
       "h2 {\n",
       "    color: white;\n",
       "    border: 1.5px solid rgb(46, 170, 177);\n",
       "    padding: 8px 12px;\n",
       "    background: rgba(46, 170, 177, 0.5);\n",
       "    position: static;\n",
       "}\n",
       "\n",
       ".note {\n",
       "    background-color: rgba(0, 255, 162, 0.503);\n",
       "}\n",
       "\n",
       ".warning {\n",
       "    background-color: rgba(246, 255, 0, 0.503);\n",
       "}\n",
       "\n",
       ".important {\n",
       "    background-color: rgba(255, 187, 0, 0.503);\n",
       "}\n",
       "\n",
       "\n",
       "</style>"
      ],
      "text/plain": [
       "<IPython.core.display.HTML object>"
      ]
     },
     "execution_count": 1,
     "metadata": {},
     "output_type": "execute_result"
    }
   ],
   "source": [
    "# Styling notebook\n",
    "\n",
    "# System\n",
    "import os\n",
    "import sys\n",
    "\n",
    "# Import scripts libraries for the project\n",
    "sys.path.append('./src/python')\n",
    "\n",
    "# Import the function to update the notebook style\n",
    "from nbConfig import (css_styling)\n",
    "\n",
    "css_styling()"
   ]
  },
  {
   "cell_type": "markdown",
   "metadata": {},
   "source": [
    "Import the libraries needed for the analysis"
   ]
  },
  {
   "cell_type": "code",
   "execution_count": 2,
   "metadata": {},
   "outputs": [],
   "source": [
    "# Data\n",
    "import math\n",
    "import numpy as np\n",
    "import pandas as np\n",
    "\n",
    "# Spatial Data\n",
    "import geopandas as gpd\n",
    "import rasterio\n",
    "from rasterstats import zonal_stats, point_query\n",
    "\n",
    "# Data visualization\n",
    "import matplotlib.pyplot as plt\n",
    "import seaborn as sns"
   ]
  },
  {
   "cell_type": "code",
   "execution_count": null,
   "metadata": {},
   "outputs": [],
   "source": []
  }
 ],
 "metadata": {
  "kernelspec": {
   "display_name": "Python 3",
   "language": "python",
   "name": "python3"
  },
  "language_info": {
   "codemirror_mode": {
    "name": "ipython",
    "version": 3
   },
   "file_extension": ".py",
   "mimetype": "text/x-python",
   "name": "python",
   "nbconvert_exporter": "python",
   "pygments_lexer": "ipython3",
   "version": "3.6.12"
  }
 },
 "nbformat": 4,
 "nbformat_minor": 4
}
